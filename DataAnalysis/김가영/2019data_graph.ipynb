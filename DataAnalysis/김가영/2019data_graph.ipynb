{
  "nbformat": 4,
  "nbformat_minor": 0,
  "metadata": {
    "colab": {
      "name": "2019data_graph",
      "provenance": [],
      "authorship_tag": "ABX9TyM9tZ+7OYq2yUvMoX2/7yQQ",
      "include_colab_link": true
    },
    "kernelspec": {
      "name": "python3",
      "display_name": "Python 3"
    }
  },
  "cells": [
    {
      "cell_type": "markdown",
      "metadata": {
        "id": "view-in-github",
        "colab_type": "text"
      },
      "source": [
        "<a href=\"https://colab.research.google.com/github/kiyer722/COVID19_data_analysis/blob/main/DataAnalysis/%EA%B9%80%EA%B0%80%EC%98%81/2019data_graph.ipynb\" target=\"_parent\"><img src=\"https://colab.research.google.com/assets/colab-badge.svg\" alt=\"Open In Colab\"/></a>"
      ]
    },
    {
      "cell_type": "code",
      "metadata": {
        "colab": {
          "base_uri": "https://localhost:8080/"
        },
        "id": "CJbcRbZkV8X2",
        "outputId": "e4d5481e-ffdc-426f-d127-2d00c47a4bbe"
      },
      "source": [
        "from google.colab import drive \r\n",
        "drive.mount('/content/drive')\r\n"
      ],
      "execution_count": null,
      "outputs": [
        {
          "output_type": "stream",
          "text": [
            "Mounted at /content/drive\n"
          ],
          "name": "stdout"
        }
      ]
    },
    {
      "cell_type": "code",
      "metadata": {
        "colab": {
          "base_uri": "https://localhost:8080/"
        },
        "id": "Uz9uvH8CDdOk",
        "outputId": "323aff5f-1182-4009-e5f3-94fb5119bd7a"
      },
      "source": [
        "!sudo apt-get install -y fonts-nanum\r\n",
        "!sudo fc-cache -fv\r\n",
        "!rm ~/.cache/matplotlib -rf"
      ],
      "execution_count": null,
      "outputs": [
        {
          "output_type": "stream",
          "text": [
            "Reading package lists... Done\n",
            "Building dependency tree       \n",
            "Reading state information... Done\n",
            "The following NEW packages will be installed:\n",
            "  fonts-nanum\n",
            "0 upgraded, 1 newly installed, 0 to remove and 17 not upgraded.\n",
            "Need to get 9,604 kB of archives.\n",
            "After this operation, 29.5 MB of additional disk space will be used.\n",
            "Get:1 http://archive.ubuntu.com/ubuntu bionic/universe amd64 fonts-nanum all 20170925-1 [9,604 kB]\n",
            "Fetched 9,604 kB in 1s (8,446 kB/s)\n",
            "debconf: unable to initialize frontend: Dialog\n",
            "debconf: (No usable dialog-like program is installed, so the dialog based frontend cannot be used. at /usr/share/perl5/Debconf/FrontEnd/Dialog.pm line 76, <> line 1.)\n",
            "debconf: falling back to frontend: Readline\n",
            "debconf: unable to initialize frontend: Readline\n",
            "debconf: (This frontend requires a controlling tty.)\n",
            "debconf: falling back to frontend: Teletype\n",
            "dpkg-preconfigure: unable to re-open stdin: \n",
            "Selecting previously unselected package fonts-nanum.\n",
            "(Reading database ... 146425 files and directories currently installed.)\n",
            "Preparing to unpack .../fonts-nanum_20170925-1_all.deb ...\n",
            "Unpacking fonts-nanum (20170925-1) ...\n",
            "Setting up fonts-nanum (20170925-1) ...\n",
            "Processing triggers for fontconfig (2.12.6-0ubuntu2) ...\n",
            "/usr/share/fonts: caching, new cache contents: 0 fonts, 1 dirs\n",
            "/usr/share/fonts/truetype: caching, new cache contents: 0 fonts, 3 dirs\n",
            "/usr/share/fonts/truetype/humor-sans: caching, new cache contents: 1 fonts, 0 dirs\n",
            "/usr/share/fonts/truetype/liberation: caching, new cache contents: 16 fonts, 0 dirs\n",
            "/usr/share/fonts/truetype/nanum: caching, new cache contents: 10 fonts, 0 dirs\n",
            "/usr/local/share/fonts: caching, new cache contents: 0 fonts, 0 dirs\n",
            "/root/.local/share/fonts: skipping, no such directory\n",
            "/root/.fonts: skipping, no such directory\n",
            "/var/cache/fontconfig: cleaning cache directory\n",
            "/root/.cache/fontconfig: not cleaning non-existent cache directory\n",
            "/root/.fontconfig: not cleaning non-existent cache directory\n",
            "fc-cache: succeeded\n"
          ],
          "name": "stdout"
        }
      ]
    },
    {
      "cell_type": "code",
      "metadata": {
        "id": "rDZmm7NKVxV9"
      },
      "source": [
        "import pandas as pd"
      ],
      "execution_count": null,
      "outputs": []
    },
    {
      "cell_type": "code",
      "metadata": {
        "id": "6m_yzz_Z2D52"
      },
      "source": [
        "import numpy as np"
      ],
      "execution_count": null,
      "outputs": []
    },
    {
      "cell_type": "code",
      "metadata": {
        "id": "Ytpa9PZu9a4j"
      },
      "source": [
        "from matplotlib import pyplot as plt\r\n",
        "\r\n",
        "plt.rc('font', family='NanumBarunGothic') "
      ],
      "execution_count": null,
      "outputs": []
    },
    {
      "cell_type": "code",
      "metadata": {
        "id": "1iS7dLxm_KjU"
      },
      "source": [
        "import seaborn as sns"
      ],
      "execution_count": null,
      "outputs": []
    },
    {
      "cell_type": "code",
      "metadata": {
        "id": "YX_yfhImj80h"
      },
      "source": [
        "filename='/content/drive/MyDrive/covid19데이터마이닝/최종 데이터/2019data(ver3).csv'"
      ],
      "execution_count": null,
      "outputs": []
    },
    {
      "cell_type": "code",
      "metadata": {
        "colab": {
          "base_uri": "https://localhost:8080/",
          "height": 214
        },
        "id": "wQ4rdXNvsXAF",
        "outputId": "9f603104-3404-4efa-b52f-820cad28c455"
      },
      "source": [
        "data=pd.read_csv(filename, encoding='CP949')\r\n",
        "data.head()"
      ],
      "execution_count": null,
      "outputs": [
        {
          "output_type": "execute_result",
          "data": {
            "text/html": [
              "<div>\n",
              "<style scoped>\n",
              "    .dataframe tbody tr th:only-of-type {\n",
              "        vertical-align: middle;\n",
              "    }\n",
              "\n",
              "    .dataframe tbody tr th {\n",
              "        vertical-align: top;\n",
              "    }\n",
              "\n",
              "    .dataframe thead th {\n",
              "        text-align: right;\n",
              "    }\n",
              "</style>\n",
              "<table border=\"1\" class=\"dataframe\">\n",
              "  <thead>\n",
              "    <tr style=\"text-align: right;\">\n",
              "      <th></th>\n",
              "      <th>기준_년_코드</th>\n",
              "      <th>기준_분기_코드</th>\n",
              "      <th>상권_코드</th>\n",
              "      <th>상권_코드_명</th>\n",
              "      <th>서비스_업종_코드</th>\n",
              "      <th>당월_매출_금액</th>\n",
              "      <th>당월_매출_건수</th>\n",
              "      <th>점포_수</th>\n",
              "      <th>개업_점포_수</th>\n",
              "      <th>폐업_점포_수</th>\n",
              "      <th>총_유동인구_수</th>\n",
              "      <th>총 상주인구 수</th>\n",
              "      <th>총_직장_인구_수</th>\n",
              "      <th>아파트_단지_수</th>\n",
              "      <th>집객시설_수</th>\n",
              "      <th>상권_변화_지표</th>\n",
              "      <th>상권_변화_지표_명</th>\n",
              "      <th>운영_영업_개월_평균</th>\n",
              "      <th>폐업_영업_개월_평균</th>\n",
              "    </tr>\n",
              "  </thead>\n",
              "  <tbody>\n",
              "    <tr>\n",
              "      <th>0</th>\n",
              "      <td>2019</td>\n",
              "      <td>1</td>\n",
              "      <td>1000985</td>\n",
              "      <td>암사길</td>\n",
              "      <td>CS200003</td>\n",
              "      <td>20061598.0</td>\n",
              "      <td>125</td>\n",
              "      <td>3</td>\n",
              "      <td>0</td>\n",
              "      <td>1</td>\n",
              "      <td>1691955</td>\n",
              "      <td>7132</td>\n",
              "      <td>257</td>\n",
              "      <td>96</td>\n",
              "      <td>13</td>\n",
              "      <td>LL</td>\n",
              "      <td>다이나믹</td>\n",
              "      <td>100</td>\n",
              "      <td>47</td>\n",
              "    </tr>\n",
              "    <tr>\n",
              "      <th>1</th>\n",
              "      <td>2019</td>\n",
              "      <td>1</td>\n",
              "      <td>1000985</td>\n",
              "      <td>암사길</td>\n",
              "      <td>CS300018</td>\n",
              "      <td>51140049.0</td>\n",
              "      <td>5122</td>\n",
              "      <td>2</td>\n",
              "      <td>0</td>\n",
              "      <td>0</td>\n",
              "      <td>1691955</td>\n",
              "      <td>7132</td>\n",
              "      <td>257</td>\n",
              "      <td>96</td>\n",
              "      <td>13</td>\n",
              "      <td>LL</td>\n",
              "      <td>다이나믹</td>\n",
              "      <td>100</td>\n",
              "      <td>47</td>\n",
              "    </tr>\n",
              "    <tr>\n",
              "      <th>2</th>\n",
              "      <td>2019</td>\n",
              "      <td>1</td>\n",
              "      <td>1000985</td>\n",
              "      <td>암사길</td>\n",
              "      <td>CS300002</td>\n",
              "      <td>951735545.0</td>\n",
              "      <td>122840</td>\n",
              "      <td>2</td>\n",
              "      <td>0</td>\n",
              "      <td>1</td>\n",
              "      <td>1691955</td>\n",
              "      <td>7132</td>\n",
              "      <td>257</td>\n",
              "      <td>96</td>\n",
              "      <td>13</td>\n",
              "      <td>LL</td>\n",
              "      <td>다이나믹</td>\n",
              "      <td>100</td>\n",
              "      <td>47</td>\n",
              "    </tr>\n",
              "    <tr>\n",
              "      <th>3</th>\n",
              "      <td>2019</td>\n",
              "      <td>1</td>\n",
              "      <td>1000985</td>\n",
              "      <td>암사길</td>\n",
              "      <td>CS100005</td>\n",
              "      <td>24860481.0</td>\n",
              "      <td>3306</td>\n",
              "      <td>3</td>\n",
              "      <td>2</td>\n",
              "      <td>0</td>\n",
              "      <td>1691955</td>\n",
              "      <td>7132</td>\n",
              "      <td>257</td>\n",
              "      <td>96</td>\n",
              "      <td>13</td>\n",
              "      <td>LL</td>\n",
              "      <td>다이나믹</td>\n",
              "      <td>100</td>\n",
              "      <td>47</td>\n",
              "    </tr>\n",
              "    <tr>\n",
              "      <th>4</th>\n",
              "      <td>2019</td>\n",
              "      <td>1</td>\n",
              "      <td>1000985</td>\n",
              "      <td>암사길</td>\n",
              "      <td>CS100006</td>\n",
              "      <td>10524597.0</td>\n",
              "      <td>322</td>\n",
              "      <td>1</td>\n",
              "      <td>0</td>\n",
              "      <td>0</td>\n",
              "      <td>1691955</td>\n",
              "      <td>7132</td>\n",
              "      <td>257</td>\n",
              "      <td>96</td>\n",
              "      <td>13</td>\n",
              "      <td>LL</td>\n",
              "      <td>다이나믹</td>\n",
              "      <td>100</td>\n",
              "      <td>47</td>\n",
              "    </tr>\n",
              "  </tbody>\n",
              "</table>\n",
              "</div>"
            ],
            "text/plain": [
              "   기준_년_코드  기준_분기_코드    상권_코드  ... 상권_변화_지표_명 운영_영업_개월_평균  폐업_영업_개월_평균\n",
              "0     2019         1  1000985  ...       다이나믹         100           47\n",
              "1     2019         1  1000985  ...       다이나믹         100           47\n",
              "2     2019         1  1000985  ...       다이나믹         100           47\n",
              "3     2019         1  1000985  ...       다이나믹         100           47\n",
              "4     2019         1  1000985  ...       다이나믹         100           47\n",
              "\n",
              "[5 rows x 19 columns]"
            ]
          },
          "metadata": {
            "tags": []
          },
          "execution_count": 6
        }
      ]
    },
    {
      "cell_type": "code",
      "metadata": {
        "colab": {
          "base_uri": "https://localhost:8080/",
          "height": 297
        },
        "id": "BGAG7RrrsGnC",
        "outputId": "409c9e4a-b47d-4182-d2a4-7ac6ad5e9bf4"
      },
      "source": [
        "data.tail()"
      ],
      "execution_count": null,
      "outputs": [
        {
          "output_type": "execute_result",
          "data": {
            "text/html": [
              "<div>\n",
              "<style scoped>\n",
              "    .dataframe tbody tr th:only-of-type {\n",
              "        vertical-align: middle;\n",
              "    }\n",
              "\n",
              "    .dataframe tbody tr th {\n",
              "        vertical-align: top;\n",
              "    }\n",
              "\n",
              "    .dataframe thead th {\n",
              "        text-align: right;\n",
              "    }\n",
              "</style>\n",
              "<table border=\"1\" class=\"dataframe\">\n",
              "  <thead>\n",
              "    <tr style=\"text-align: right;\">\n",
              "      <th></th>\n",
              "      <th>기준_년_코드</th>\n",
              "      <th>기준_분기_코드</th>\n",
              "      <th>상권_코드</th>\n",
              "      <th>상권_코드_명</th>\n",
              "      <th>서비스_업종_코드</th>\n",
              "      <th>당월_매출_금액</th>\n",
              "      <th>당월_매출_건수</th>\n",
              "      <th>점포_수</th>\n",
              "      <th>개업_점포_수</th>\n",
              "      <th>폐업_점포_수</th>\n",
              "      <th>총_유동인구_수</th>\n",
              "      <th>총 상주인구 수</th>\n",
              "      <th>총_직장_인구_수</th>\n",
              "      <th>아파트_단지_수</th>\n",
              "      <th>집객시설_수</th>\n",
              "      <th>상권_변화_지표</th>\n",
              "      <th>상권_변화_지표_명</th>\n",
              "      <th>운영_영업_개월_평균</th>\n",
              "      <th>폐업_영업_개월_평균</th>\n",
              "    </tr>\n",
              "  </thead>\n",
              "  <tbody>\n",
              "    <tr>\n",
              "      <th>100573</th>\n",
              "      <td>2019</td>\n",
              "      <td>3</td>\n",
              "      <td>1000546</td>\n",
              "      <td>중앙로47길</td>\n",
              "      <td>CS200028</td>\n",
              "      <td>12817341.0</td>\n",
              "      <td>320</td>\n",
              "      <td>6</td>\n",
              "      <td>0</td>\n",
              "      <td>0</td>\n",
              "      <td>957312</td>\n",
              "      <td>1901</td>\n",
              "      <td>79</td>\n",
              "      <td>35</td>\n",
              "      <td>1</td>\n",
              "      <td>HH</td>\n",
              "      <td>정체</td>\n",
              "      <td>140</td>\n",
              "      <td>58</td>\n",
              "    </tr>\n",
              "    <tr>\n",
              "      <th>100574</th>\n",
              "      <td>2019</td>\n",
              "      <td>3</td>\n",
              "      <td>1000546</td>\n",
              "      <td>중앙로47길</td>\n",
              "      <td>CS300007</td>\n",
              "      <td>117813256.0</td>\n",
              "      <td>4723</td>\n",
              "      <td>1</td>\n",
              "      <td>0</td>\n",
              "      <td>0</td>\n",
              "      <td>957312</td>\n",
              "      <td>1901</td>\n",
              "      <td>79</td>\n",
              "      <td>35</td>\n",
              "      <td>1</td>\n",
              "      <td>HH</td>\n",
              "      <td>정체</td>\n",
              "      <td>140</td>\n",
              "      <td>58</td>\n",
              "    </tr>\n",
              "    <tr>\n",
              "      <th>100575</th>\n",
              "      <td>2019</td>\n",
              "      <td>3</td>\n",
              "      <td>1001337</td>\n",
              "      <td>유영시장</td>\n",
              "      <td>CS100002</td>\n",
              "      <td>37145087.0</td>\n",
              "      <td>1747</td>\n",
              "      <td>1</td>\n",
              "      <td>0</td>\n",
              "      <td>0</td>\n",
              "      <td>27425</td>\n",
              "      <td>116</td>\n",
              "      <td>32</td>\n",
              "      <td>1</td>\n",
              "      <td>0</td>\n",
              "      <td>HH</td>\n",
              "      <td>정체</td>\n",
              "      <td>139</td>\n",
              "      <td>62</td>\n",
              "    </tr>\n",
              "    <tr>\n",
              "      <th>100576</th>\n",
              "      <td>2019</td>\n",
              "      <td>3</td>\n",
              "      <td>1001281</td>\n",
              "      <td>청평화시장</td>\n",
              "      <td>CS300001</td>\n",
              "      <td>100730024.0</td>\n",
              "      <td>15379</td>\n",
              "      <td>9</td>\n",
              "      <td>0</td>\n",
              "      <td>0</td>\n",
              "      <td>73069</td>\n",
              "      <td>1</td>\n",
              "      <td>117</td>\n",
              "      <td>0</td>\n",
              "      <td>1</td>\n",
              "      <td>LH</td>\n",
              "      <td>상권확장</td>\n",
              "      <td>102</td>\n",
              "      <td>66</td>\n",
              "    </tr>\n",
              "    <tr>\n",
              "      <th>100577</th>\n",
              "      <td>2019</td>\n",
              "      <td>3</td>\n",
              "      <td>1001345</td>\n",
              "      <td>새석관시장</td>\n",
              "      <td>CS200028</td>\n",
              "      <td>3776385.0</td>\n",
              "      <td>103</td>\n",
              "      <td>2</td>\n",
              "      <td>0</td>\n",
              "      <td>0</td>\n",
              "      <td>38543</td>\n",
              "      <td>80</td>\n",
              "      <td>4</td>\n",
              "      <td>2</td>\n",
              "      <td>1</td>\n",
              "      <td>HH</td>\n",
              "      <td>정체</td>\n",
              "      <td>186</td>\n",
              "      <td>57</td>\n",
              "    </tr>\n",
              "  </tbody>\n",
              "</table>\n",
              "</div>"
            ],
            "text/plain": [
              "        기준_년_코드  기준_분기_코드    상권_코드  ... 상권_변화_지표_명 운영_영업_개월_평균  폐업_영업_개월_평균\n",
              "100573     2019         3  1000546  ...         정체         140           58\n",
              "100574     2019         3  1000546  ...         정체         140           58\n",
              "100575     2019         3  1001337  ...         정체         139           62\n",
              "100576     2019         3  1001281  ...       상권확장         102           66\n",
              "100577     2019         3  1001345  ...         정체         186           57\n",
              "\n",
              "[5 rows x 19 columns]"
            ]
          },
          "metadata": {
            "tags": []
          },
          "execution_count": 7
        }
      ]
    },
    {
      "cell_type": "code",
      "metadata": {
        "id": "5S3X5fctshL2"
      },
      "source": [
        "cols=data.columns[[0,1,2,3,4,5,6,7,8,9,10,11,12,13,14,17,18,15,16]]\r\n",
        "data=data[cols]"
      ],
      "execution_count": null,
      "outputs": []
    },
    {
      "cell_type": "code",
      "metadata": {
        "colab": {
          "base_uri": "https://localhost:8080/",
          "height": 214
        },
        "id": "UuHhIOZnzL4p",
        "outputId": "8c3c6709-9bc3-4a8f-b05d-22756bd97ea1"
      },
      "source": [
        "data.head()"
      ],
      "execution_count": null,
      "outputs": [
        {
          "output_type": "execute_result",
          "data": {
            "text/html": [
              "<div>\n",
              "<style scoped>\n",
              "    .dataframe tbody tr th:only-of-type {\n",
              "        vertical-align: middle;\n",
              "    }\n",
              "\n",
              "    .dataframe tbody tr th {\n",
              "        vertical-align: top;\n",
              "    }\n",
              "\n",
              "    .dataframe thead th {\n",
              "        text-align: right;\n",
              "    }\n",
              "</style>\n",
              "<table border=\"1\" class=\"dataframe\">\n",
              "  <thead>\n",
              "    <tr style=\"text-align: right;\">\n",
              "      <th></th>\n",
              "      <th>기준_년_코드</th>\n",
              "      <th>기준_분기_코드</th>\n",
              "      <th>상권_코드</th>\n",
              "      <th>상권_코드_명</th>\n",
              "      <th>서비스_업종_코드</th>\n",
              "      <th>당월_매출_금액</th>\n",
              "      <th>당월_매출_건수</th>\n",
              "      <th>점포_수</th>\n",
              "      <th>개업_점포_수</th>\n",
              "      <th>폐업_점포_수</th>\n",
              "      <th>총_유동인구_수</th>\n",
              "      <th>총 상주인구 수</th>\n",
              "      <th>총_직장_인구_수</th>\n",
              "      <th>아파트_단지_수</th>\n",
              "      <th>집객시설_수</th>\n",
              "      <th>운영_영업_개월_평균</th>\n",
              "      <th>폐업_영업_개월_평균</th>\n",
              "      <th>상권_변화_지표</th>\n",
              "      <th>상권_변화_지표_명</th>\n",
              "    </tr>\n",
              "  </thead>\n",
              "  <tbody>\n",
              "    <tr>\n",
              "      <th>0</th>\n",
              "      <td>2019</td>\n",
              "      <td>1</td>\n",
              "      <td>1000985</td>\n",
              "      <td>암사길</td>\n",
              "      <td>CS200003</td>\n",
              "      <td>20061598.0</td>\n",
              "      <td>125</td>\n",
              "      <td>3</td>\n",
              "      <td>0</td>\n",
              "      <td>1</td>\n",
              "      <td>1691955</td>\n",
              "      <td>7132</td>\n",
              "      <td>257</td>\n",
              "      <td>96</td>\n",
              "      <td>13</td>\n",
              "      <td>100</td>\n",
              "      <td>47</td>\n",
              "      <td>LL</td>\n",
              "      <td>다이나믹</td>\n",
              "    </tr>\n",
              "    <tr>\n",
              "      <th>1</th>\n",
              "      <td>2019</td>\n",
              "      <td>1</td>\n",
              "      <td>1000985</td>\n",
              "      <td>암사길</td>\n",
              "      <td>CS300018</td>\n",
              "      <td>51140049.0</td>\n",
              "      <td>5122</td>\n",
              "      <td>2</td>\n",
              "      <td>0</td>\n",
              "      <td>0</td>\n",
              "      <td>1691955</td>\n",
              "      <td>7132</td>\n",
              "      <td>257</td>\n",
              "      <td>96</td>\n",
              "      <td>13</td>\n",
              "      <td>100</td>\n",
              "      <td>47</td>\n",
              "      <td>LL</td>\n",
              "      <td>다이나믹</td>\n",
              "    </tr>\n",
              "    <tr>\n",
              "      <th>2</th>\n",
              "      <td>2019</td>\n",
              "      <td>1</td>\n",
              "      <td>1000985</td>\n",
              "      <td>암사길</td>\n",
              "      <td>CS300002</td>\n",
              "      <td>951735545.0</td>\n",
              "      <td>122840</td>\n",
              "      <td>2</td>\n",
              "      <td>0</td>\n",
              "      <td>1</td>\n",
              "      <td>1691955</td>\n",
              "      <td>7132</td>\n",
              "      <td>257</td>\n",
              "      <td>96</td>\n",
              "      <td>13</td>\n",
              "      <td>100</td>\n",
              "      <td>47</td>\n",
              "      <td>LL</td>\n",
              "      <td>다이나믹</td>\n",
              "    </tr>\n",
              "    <tr>\n",
              "      <th>3</th>\n",
              "      <td>2019</td>\n",
              "      <td>1</td>\n",
              "      <td>1000985</td>\n",
              "      <td>암사길</td>\n",
              "      <td>CS100005</td>\n",
              "      <td>24860481.0</td>\n",
              "      <td>3306</td>\n",
              "      <td>3</td>\n",
              "      <td>2</td>\n",
              "      <td>0</td>\n",
              "      <td>1691955</td>\n",
              "      <td>7132</td>\n",
              "      <td>257</td>\n",
              "      <td>96</td>\n",
              "      <td>13</td>\n",
              "      <td>100</td>\n",
              "      <td>47</td>\n",
              "      <td>LL</td>\n",
              "      <td>다이나믹</td>\n",
              "    </tr>\n",
              "    <tr>\n",
              "      <th>4</th>\n",
              "      <td>2019</td>\n",
              "      <td>1</td>\n",
              "      <td>1000985</td>\n",
              "      <td>암사길</td>\n",
              "      <td>CS100006</td>\n",
              "      <td>10524597.0</td>\n",
              "      <td>322</td>\n",
              "      <td>1</td>\n",
              "      <td>0</td>\n",
              "      <td>0</td>\n",
              "      <td>1691955</td>\n",
              "      <td>7132</td>\n",
              "      <td>257</td>\n",
              "      <td>96</td>\n",
              "      <td>13</td>\n",
              "      <td>100</td>\n",
              "      <td>47</td>\n",
              "      <td>LL</td>\n",
              "      <td>다이나믹</td>\n",
              "    </tr>\n",
              "  </tbody>\n",
              "</table>\n",
              "</div>"
            ],
            "text/plain": [
              "   기준_년_코드  기준_분기_코드    상권_코드  ... 폐업_영업_개월_평균 상권_변화_지표  상권_변화_지표_명\n",
              "0     2019         1  1000985  ...          47       LL        다이나믹\n",
              "1     2019         1  1000985  ...          47       LL        다이나믹\n",
              "2     2019         1  1000985  ...          47       LL        다이나믹\n",
              "3     2019         1  1000985  ...          47       LL        다이나믹\n",
              "4     2019         1  1000985  ...          47       LL        다이나믹\n",
              "\n",
              "[5 rows x 19 columns]"
            ]
          },
          "metadata": {
            "tags": []
          },
          "execution_count": 9
        }
      ]
    },
    {
      "cell_type": "code",
      "metadata": {
        "colab": {
          "base_uri": "https://localhost:8080/",
          "height": 214
        },
        "id": "4SB4E0g5zbNj",
        "outputId": "404b37eb-4ab0-40cd-c1d4-0ef070f98b88"
      },
      "source": [
        "data=data.drop(data.columns[[18]],axis='columns')\r\n",
        "data.head()"
      ],
      "execution_count": null,
      "outputs": [
        {
          "output_type": "execute_result",
          "data": {
            "text/html": [
              "<div>\n",
              "<style scoped>\n",
              "    .dataframe tbody tr th:only-of-type {\n",
              "        vertical-align: middle;\n",
              "    }\n",
              "\n",
              "    .dataframe tbody tr th {\n",
              "        vertical-align: top;\n",
              "    }\n",
              "\n",
              "    .dataframe thead th {\n",
              "        text-align: right;\n",
              "    }\n",
              "</style>\n",
              "<table border=\"1\" class=\"dataframe\">\n",
              "  <thead>\n",
              "    <tr style=\"text-align: right;\">\n",
              "      <th></th>\n",
              "      <th>기준_년_코드</th>\n",
              "      <th>기준_분기_코드</th>\n",
              "      <th>상권_코드</th>\n",
              "      <th>상권_코드_명</th>\n",
              "      <th>서비스_업종_코드</th>\n",
              "      <th>당월_매출_금액</th>\n",
              "      <th>당월_매출_건수</th>\n",
              "      <th>점포_수</th>\n",
              "      <th>개업_점포_수</th>\n",
              "      <th>폐업_점포_수</th>\n",
              "      <th>총_유동인구_수</th>\n",
              "      <th>총 상주인구 수</th>\n",
              "      <th>총_직장_인구_수</th>\n",
              "      <th>아파트_단지_수</th>\n",
              "      <th>집객시설_수</th>\n",
              "      <th>운영_영업_개월_평균</th>\n",
              "      <th>폐업_영업_개월_평균</th>\n",
              "      <th>상권_변화_지표</th>\n",
              "    </tr>\n",
              "  </thead>\n",
              "  <tbody>\n",
              "    <tr>\n",
              "      <th>0</th>\n",
              "      <td>2019</td>\n",
              "      <td>1</td>\n",
              "      <td>1000985</td>\n",
              "      <td>암사길</td>\n",
              "      <td>CS200003</td>\n",
              "      <td>20061598.0</td>\n",
              "      <td>125</td>\n",
              "      <td>3</td>\n",
              "      <td>0</td>\n",
              "      <td>1</td>\n",
              "      <td>1691955</td>\n",
              "      <td>7132</td>\n",
              "      <td>257</td>\n",
              "      <td>96</td>\n",
              "      <td>13</td>\n",
              "      <td>100</td>\n",
              "      <td>47</td>\n",
              "      <td>LL</td>\n",
              "    </tr>\n",
              "    <tr>\n",
              "      <th>1</th>\n",
              "      <td>2019</td>\n",
              "      <td>1</td>\n",
              "      <td>1000985</td>\n",
              "      <td>암사길</td>\n",
              "      <td>CS300018</td>\n",
              "      <td>51140049.0</td>\n",
              "      <td>5122</td>\n",
              "      <td>2</td>\n",
              "      <td>0</td>\n",
              "      <td>0</td>\n",
              "      <td>1691955</td>\n",
              "      <td>7132</td>\n",
              "      <td>257</td>\n",
              "      <td>96</td>\n",
              "      <td>13</td>\n",
              "      <td>100</td>\n",
              "      <td>47</td>\n",
              "      <td>LL</td>\n",
              "    </tr>\n",
              "    <tr>\n",
              "      <th>2</th>\n",
              "      <td>2019</td>\n",
              "      <td>1</td>\n",
              "      <td>1000985</td>\n",
              "      <td>암사길</td>\n",
              "      <td>CS300002</td>\n",
              "      <td>951735545.0</td>\n",
              "      <td>122840</td>\n",
              "      <td>2</td>\n",
              "      <td>0</td>\n",
              "      <td>1</td>\n",
              "      <td>1691955</td>\n",
              "      <td>7132</td>\n",
              "      <td>257</td>\n",
              "      <td>96</td>\n",
              "      <td>13</td>\n",
              "      <td>100</td>\n",
              "      <td>47</td>\n",
              "      <td>LL</td>\n",
              "    </tr>\n",
              "    <tr>\n",
              "      <th>3</th>\n",
              "      <td>2019</td>\n",
              "      <td>1</td>\n",
              "      <td>1000985</td>\n",
              "      <td>암사길</td>\n",
              "      <td>CS100005</td>\n",
              "      <td>24860481.0</td>\n",
              "      <td>3306</td>\n",
              "      <td>3</td>\n",
              "      <td>2</td>\n",
              "      <td>0</td>\n",
              "      <td>1691955</td>\n",
              "      <td>7132</td>\n",
              "      <td>257</td>\n",
              "      <td>96</td>\n",
              "      <td>13</td>\n",
              "      <td>100</td>\n",
              "      <td>47</td>\n",
              "      <td>LL</td>\n",
              "    </tr>\n",
              "    <tr>\n",
              "      <th>4</th>\n",
              "      <td>2019</td>\n",
              "      <td>1</td>\n",
              "      <td>1000985</td>\n",
              "      <td>암사길</td>\n",
              "      <td>CS100006</td>\n",
              "      <td>10524597.0</td>\n",
              "      <td>322</td>\n",
              "      <td>1</td>\n",
              "      <td>0</td>\n",
              "      <td>0</td>\n",
              "      <td>1691955</td>\n",
              "      <td>7132</td>\n",
              "      <td>257</td>\n",
              "      <td>96</td>\n",
              "      <td>13</td>\n",
              "      <td>100</td>\n",
              "      <td>47</td>\n",
              "      <td>LL</td>\n",
              "    </tr>\n",
              "  </tbody>\n",
              "</table>\n",
              "</div>"
            ],
            "text/plain": [
              "   기준_년_코드  기준_분기_코드    상권_코드  ... 운영_영업_개월_평균 폐업_영업_개월_평균  상권_변화_지표\n",
              "0     2019         1  1000985  ...         100          47        LL\n",
              "1     2019         1  1000985  ...         100          47        LL\n",
              "2     2019         1  1000985  ...         100          47        LL\n",
              "3     2019         1  1000985  ...         100          47        LL\n",
              "4     2019         1  1000985  ...         100          47        LL\n",
              "\n",
              "[5 rows x 18 columns]"
            ]
          },
          "metadata": {
            "tags": []
          },
          "execution_count": 10
        }
      ]
    },
    {
      "cell_type": "code",
      "metadata": {
        "id": "icICH5co0RAw"
      },
      "source": [
        "data=data.replace(\"LL\",1)"
      ],
      "execution_count": null,
      "outputs": []
    },
    {
      "cell_type": "code",
      "metadata": {
        "id": "kXRQ7BOU6gQl"
      },
      "source": [
        "data=data.replace(\"HH\",1)"
      ],
      "execution_count": null,
      "outputs": []
    },
    {
      "cell_type": "code",
      "metadata": {
        "id": "hCefiWXi6gr7"
      },
      "source": [
        "data=data.replace(\"LH\",1)"
      ],
      "execution_count": null,
      "outputs": []
    },
    {
      "cell_type": "code",
      "metadata": {
        "id": "G_EpdCpa6g00"
      },
      "source": [
        "data=data.replace(\"HL\",0)"
      ],
      "execution_count": null,
      "outputs": []
    },
    {
      "cell_type": "code",
      "metadata": {
        "colab": {
          "base_uri": "https://localhost:8080/",
          "height": 490
        },
        "id": "ZoBtWmY16xN7",
        "outputId": "c585ad32-ecc1-4006-977d-b1b2e55acfdd"
      },
      "source": [
        "data"
      ],
      "execution_count": null,
      "outputs": [
        {
          "output_type": "execute_result",
          "data": {
            "text/html": [
              "<div>\n",
              "<style scoped>\n",
              "    .dataframe tbody tr th:only-of-type {\n",
              "        vertical-align: middle;\n",
              "    }\n",
              "\n",
              "    .dataframe tbody tr th {\n",
              "        vertical-align: top;\n",
              "    }\n",
              "\n",
              "    .dataframe thead th {\n",
              "        text-align: right;\n",
              "    }\n",
              "</style>\n",
              "<table border=\"1\" class=\"dataframe\">\n",
              "  <thead>\n",
              "    <tr style=\"text-align: right;\">\n",
              "      <th></th>\n",
              "      <th>기준_년_코드</th>\n",
              "      <th>기준_분기_코드</th>\n",
              "      <th>상권_코드</th>\n",
              "      <th>상권_코드_명</th>\n",
              "      <th>서비스_업종_코드</th>\n",
              "      <th>당월_매출_금액</th>\n",
              "      <th>당월_매출_건수</th>\n",
              "      <th>점포_수</th>\n",
              "      <th>개업_점포_수</th>\n",
              "      <th>폐업_점포_수</th>\n",
              "      <th>총_유동인구_수</th>\n",
              "      <th>총 상주인구 수</th>\n",
              "      <th>총_직장_인구_수</th>\n",
              "      <th>아파트_단지_수</th>\n",
              "      <th>집객시설_수</th>\n",
              "      <th>운영_영업_개월_평균</th>\n",
              "      <th>폐업_영업_개월_평균</th>\n",
              "      <th>상권_변화_지표</th>\n",
              "    </tr>\n",
              "  </thead>\n",
              "  <tbody>\n",
              "    <tr>\n",
              "      <th>0</th>\n",
              "      <td>2019</td>\n",
              "      <td>1</td>\n",
              "      <td>1000985</td>\n",
              "      <td>암사길</td>\n",
              "      <td>CS200003</td>\n",
              "      <td>20061598.0</td>\n",
              "      <td>125</td>\n",
              "      <td>3</td>\n",
              "      <td>0</td>\n",
              "      <td>1</td>\n",
              "      <td>1691955</td>\n",
              "      <td>7132</td>\n",
              "      <td>257</td>\n",
              "      <td>96</td>\n",
              "      <td>13</td>\n",
              "      <td>100</td>\n",
              "      <td>47</td>\n",
              "      <td>1</td>\n",
              "    </tr>\n",
              "    <tr>\n",
              "      <th>1</th>\n",
              "      <td>2019</td>\n",
              "      <td>1</td>\n",
              "      <td>1000985</td>\n",
              "      <td>암사길</td>\n",
              "      <td>CS300018</td>\n",
              "      <td>51140049.0</td>\n",
              "      <td>5122</td>\n",
              "      <td>2</td>\n",
              "      <td>0</td>\n",
              "      <td>0</td>\n",
              "      <td>1691955</td>\n",
              "      <td>7132</td>\n",
              "      <td>257</td>\n",
              "      <td>96</td>\n",
              "      <td>13</td>\n",
              "      <td>100</td>\n",
              "      <td>47</td>\n",
              "      <td>1</td>\n",
              "    </tr>\n",
              "    <tr>\n",
              "      <th>2</th>\n",
              "      <td>2019</td>\n",
              "      <td>1</td>\n",
              "      <td>1000985</td>\n",
              "      <td>암사길</td>\n",
              "      <td>CS300002</td>\n",
              "      <td>951735545.0</td>\n",
              "      <td>122840</td>\n",
              "      <td>2</td>\n",
              "      <td>0</td>\n",
              "      <td>1</td>\n",
              "      <td>1691955</td>\n",
              "      <td>7132</td>\n",
              "      <td>257</td>\n",
              "      <td>96</td>\n",
              "      <td>13</td>\n",
              "      <td>100</td>\n",
              "      <td>47</td>\n",
              "      <td>1</td>\n",
              "    </tr>\n",
              "    <tr>\n",
              "      <th>3</th>\n",
              "      <td>2019</td>\n",
              "      <td>1</td>\n",
              "      <td>1000985</td>\n",
              "      <td>암사길</td>\n",
              "      <td>CS100005</td>\n",
              "      <td>24860481.0</td>\n",
              "      <td>3306</td>\n",
              "      <td>3</td>\n",
              "      <td>2</td>\n",
              "      <td>0</td>\n",
              "      <td>1691955</td>\n",
              "      <td>7132</td>\n",
              "      <td>257</td>\n",
              "      <td>96</td>\n",
              "      <td>13</td>\n",
              "      <td>100</td>\n",
              "      <td>47</td>\n",
              "      <td>1</td>\n",
              "    </tr>\n",
              "    <tr>\n",
              "      <th>4</th>\n",
              "      <td>2019</td>\n",
              "      <td>1</td>\n",
              "      <td>1000985</td>\n",
              "      <td>암사길</td>\n",
              "      <td>CS100006</td>\n",
              "      <td>10524597.0</td>\n",
              "      <td>322</td>\n",
              "      <td>1</td>\n",
              "      <td>0</td>\n",
              "      <td>0</td>\n",
              "      <td>1691955</td>\n",
              "      <td>7132</td>\n",
              "      <td>257</td>\n",
              "      <td>96</td>\n",
              "      <td>13</td>\n",
              "      <td>100</td>\n",
              "      <td>47</td>\n",
              "      <td>1</td>\n",
              "    </tr>\n",
              "    <tr>\n",
              "      <th>...</th>\n",
              "      <td>...</td>\n",
              "      <td>...</td>\n",
              "      <td>...</td>\n",
              "      <td>...</td>\n",
              "      <td>...</td>\n",
              "      <td>...</td>\n",
              "      <td>...</td>\n",
              "      <td>...</td>\n",
              "      <td>...</td>\n",
              "      <td>...</td>\n",
              "      <td>...</td>\n",
              "      <td>...</td>\n",
              "      <td>...</td>\n",
              "      <td>...</td>\n",
              "      <td>...</td>\n",
              "      <td>...</td>\n",
              "      <td>...</td>\n",
              "      <td>...</td>\n",
              "    </tr>\n",
              "    <tr>\n",
              "      <th>100573</th>\n",
              "      <td>2019</td>\n",
              "      <td>3</td>\n",
              "      <td>1000546</td>\n",
              "      <td>중앙로47길</td>\n",
              "      <td>CS200028</td>\n",
              "      <td>12817341.0</td>\n",
              "      <td>320</td>\n",
              "      <td>6</td>\n",
              "      <td>0</td>\n",
              "      <td>0</td>\n",
              "      <td>957312</td>\n",
              "      <td>1901</td>\n",
              "      <td>79</td>\n",
              "      <td>35</td>\n",
              "      <td>1</td>\n",
              "      <td>140</td>\n",
              "      <td>58</td>\n",
              "      <td>1</td>\n",
              "    </tr>\n",
              "    <tr>\n",
              "      <th>100574</th>\n",
              "      <td>2019</td>\n",
              "      <td>3</td>\n",
              "      <td>1000546</td>\n",
              "      <td>중앙로47길</td>\n",
              "      <td>CS300007</td>\n",
              "      <td>117813256.0</td>\n",
              "      <td>4723</td>\n",
              "      <td>1</td>\n",
              "      <td>0</td>\n",
              "      <td>0</td>\n",
              "      <td>957312</td>\n",
              "      <td>1901</td>\n",
              "      <td>79</td>\n",
              "      <td>35</td>\n",
              "      <td>1</td>\n",
              "      <td>140</td>\n",
              "      <td>58</td>\n",
              "      <td>1</td>\n",
              "    </tr>\n",
              "    <tr>\n",
              "      <th>100575</th>\n",
              "      <td>2019</td>\n",
              "      <td>3</td>\n",
              "      <td>1001337</td>\n",
              "      <td>유영시장</td>\n",
              "      <td>CS100002</td>\n",
              "      <td>37145087.0</td>\n",
              "      <td>1747</td>\n",
              "      <td>1</td>\n",
              "      <td>0</td>\n",
              "      <td>0</td>\n",
              "      <td>27425</td>\n",
              "      <td>116</td>\n",
              "      <td>32</td>\n",
              "      <td>1</td>\n",
              "      <td>0</td>\n",
              "      <td>139</td>\n",
              "      <td>62</td>\n",
              "      <td>1</td>\n",
              "    </tr>\n",
              "    <tr>\n",
              "      <th>100576</th>\n",
              "      <td>2019</td>\n",
              "      <td>3</td>\n",
              "      <td>1001281</td>\n",
              "      <td>청평화시장</td>\n",
              "      <td>CS300001</td>\n",
              "      <td>100730024.0</td>\n",
              "      <td>15379</td>\n",
              "      <td>9</td>\n",
              "      <td>0</td>\n",
              "      <td>0</td>\n",
              "      <td>73069</td>\n",
              "      <td>1</td>\n",
              "      <td>117</td>\n",
              "      <td>0</td>\n",
              "      <td>1</td>\n",
              "      <td>102</td>\n",
              "      <td>66</td>\n",
              "      <td>1</td>\n",
              "    </tr>\n",
              "    <tr>\n",
              "      <th>100577</th>\n",
              "      <td>2019</td>\n",
              "      <td>3</td>\n",
              "      <td>1001345</td>\n",
              "      <td>새석관시장</td>\n",
              "      <td>CS200028</td>\n",
              "      <td>3776385.0</td>\n",
              "      <td>103</td>\n",
              "      <td>2</td>\n",
              "      <td>0</td>\n",
              "      <td>0</td>\n",
              "      <td>38543</td>\n",
              "      <td>80</td>\n",
              "      <td>4</td>\n",
              "      <td>2</td>\n",
              "      <td>1</td>\n",
              "      <td>186</td>\n",
              "      <td>57</td>\n",
              "      <td>1</td>\n",
              "    </tr>\n",
              "  </tbody>\n",
              "</table>\n",
              "<p>100578 rows × 18 columns</p>\n",
              "</div>"
            ],
            "text/plain": [
              "        기준_년_코드  기준_분기_코드    상권_코드  ... 운영_영업_개월_평균 폐업_영업_개월_평균  상권_변화_지표\n",
              "0          2019         1  1000985  ...         100          47         1\n",
              "1          2019         1  1000985  ...         100          47         1\n",
              "2          2019         1  1000985  ...         100          47         1\n",
              "3          2019         1  1000985  ...         100          47         1\n",
              "4          2019         1  1000985  ...         100          47         1\n",
              "...         ...       ...      ...  ...         ...         ...       ...\n",
              "100573     2019         3  1000546  ...         140          58         1\n",
              "100574     2019         3  1000546  ...         140          58         1\n",
              "100575     2019         3  1001337  ...         139          62         1\n",
              "100576     2019         3  1001281  ...         102          66         1\n",
              "100577     2019         3  1001345  ...         186          57         1\n",
              "\n",
              "[100578 rows x 18 columns]"
            ]
          },
          "metadata": {
            "tags": []
          },
          "execution_count": 15
        }
      ]
    },
    {
      "cell_type": "code",
      "metadata": {
        "id": "M1yWlhR9DSJ9"
      },
      "source": [
        "data.to_csv(\"2019data(mapping_ver3).csv\",encoding='utf-8-sig')"
      ],
      "execution_count": null,
      "outputs": []
    },
    {
      "cell_type": "code",
      "metadata": {
        "id": "iATJEv0h63v8"
      },
      "source": [
        "def bar_chart(feature):\r\n",
        "  sc=data[data['상권_변화_지표']==1][feature].value_counts()\r\n",
        "  di=data[data['상권_변화_지표']==0][feature].value_counts()\r\n",
        "  df=pd.DataFrame([sc,di])\r\n",
        "  df.index=['sc','di']\r\n",
        "  df.plot(kind='bar',stacked=True,figsize=(10,5))"
      ],
      "execution_count": null,
      "outputs": []
    },
    {
      "cell_type": "code",
      "metadata": {
        "colab": {
          "base_uri": "https://localhost:8080/",
          "height": 318
        },
        "id": "8Qd_asgU8T9R",
        "outputId": "aabf54ca-bf74-49db-8751-707d517f9430"
      },
      "source": [
        "bar_chart('기준_분기_코드')"
      ],
      "execution_count": null,
      "outputs": [
        {
          "output_type": "display_data",
          "data": {
            "image/png": "[encoded data removed]",
            "text/plain": [
              "<Figure size 720x360 with 1 Axes>"
            ]
          },
          "metadata": {
            "tags": [],
            "needs_background": "light"
          }
        }
      ]
    },
    {
      "cell_type": "code",
      "metadata": {
        "colab": {
          "base_uri": "https://localhost:8080/",
          "height": 295
        },
        "id": "k4S_kxqjA0m4",
        "outputId": "ebc9ea5b-d6d4-4416-910e-d39cbdbb5f1c"
      },
      "source": [
        "facet=sns.FacetGrid(data,hue=\"상권_변화_지표\",aspect=7)\r\n",
        "facet.map(sns.kdeplot,'당월_매출_금액',shade=True)\r\n",
        "facet.set(xlim=(0,data['당월_매출_금액'].max()))\r\n",
        "facet.add_legend()\r\n",
        "\r\n",
        "plt.show()"
      ],
      "execution_count": null,
      "outputs": [
        {
          "output_type": "stream",
          "text": [
            "/usr/local/lib/python3.6/dist-packages/matplotlib/backends/backend_agg.py:214: RuntimeWarning: Glyph 8722 missing from current font.\n",
            "  font.set_text(s, 0.0, flags=flags)\n",
            "/usr/local/lib/python3.6/dist-packages/matplotlib/backends/backend_agg.py:183: RuntimeWarning: Glyph 8722 missing from current font.\n",
            "  font.set_text(s, 0, flags=flags)\n"
          ],
          "name": "stderr"
        },
        {
          "output_type": "display_data",
          "data": {
            "image/png": "[encoded data removed]",
            "text/plain": [
              "<Figure size 1582.25x216 with 1 Axes>"
            ]
          },
          "metadata": {
            "tags": [],
            "needs_background": "light"
          }
        }
      ]
    },
    {
      "cell_type": "code",
      "metadata": {
        "colab": {
          "base_uri": "https://localhost:8080/",
          "height": 313
        },
        "id": "BE2uW_nYB-KF",
        "outputId": "59ec5a7f-65bf-4eae-ccde-701381a69c3d"
      },
      "source": [
        "facet=sns.FacetGrid(data,hue=\"상권_변화_지표\",aspect=7)\r\n",
        "facet.map(sns.kdeplot,'당월_매출_금액',shade=True)\r\n",
        "facet.set(xlim=(0,data['당월_매출_금액'].max()))\r\n",
        "facet.add_legend()\r\n",
        "\r\n",
        "plt.xlim(0,0.2)"
      ],
      "execution_count": null,
      "outputs": [
        {
          "output_type": "stream",
          "text": [
            "/usr/local/lib/python3.6/dist-packages/matplotlib/backends/backend_agg.py:214: RuntimeWarning: Glyph 8722 missing from current font.\n",
            "  font.set_text(s, 0.0, flags=flags)\n",
            "/usr/local/lib/python3.6/dist-packages/matplotlib/backends/backend_agg.py:183: RuntimeWarning: Glyph 8722 missing from current font.\n",
            "  font.set_text(s, 0, flags=flags)\n"
          ],
          "name": "stderr"
        },
        {
          "output_type": "execute_result",
          "data": {
            "text/plain": [
              "(0.0, 0.2)"
            ]
          },
          "metadata": {
            "tags": []
          },
          "execution_count": 20
        },
        {
          "output_type": "display_data",
          "data": {
            "image/png": "[encoded data removed]",
            "text/plain": [
              "<Figure size 1582.25x216 with 1 Axes>"
            ]
          },
          "metadata": {
            "tags": [],
            "needs_background": "light"
          }
        }
      ]
    },
    {
      "cell_type": "code",
      "metadata": {
        "colab": {
          "base_uri": "https://localhost:8080/",
          "height": 313
        },
        "id": "ph2QITmRRl8v",
        "outputId": "73230f71-21e8-4ce9-d42f-2affb16a8fc8"
      },
      "source": [
        "facet=sns.FacetGrid(data,hue=\"상권_변화_지표\",aspect=7)\r\n",
        "facet.map(sns.kdeplot,'당월_매출_건수',shade=True)\r\n",
        "facet.set(xlim=(0,data['당월_매출_건수'].max()))\r\n",
        "facet.add_legend()\r\n",
        "\r\n",
        "plt.xlim(0,150000)"
      ],
      "execution_count": null,
      "outputs": [
        {
          "output_type": "stream",
          "text": [
            "/usr/local/lib/python3.6/dist-packages/matplotlib/backends/backend_agg.py:214: RuntimeWarning: Glyph 8722 missing from current font.\n",
            "  font.set_text(s, 0.0, flags=flags)\n",
            "/usr/local/lib/python3.6/dist-packages/matplotlib/backends/backend_agg.py:183: RuntimeWarning: Glyph 8722 missing from current font.\n",
            "  font.set_text(s, 0, flags=flags)\n"
          ],
          "name": "stderr"
        },
        {
          "output_type": "execute_result",
          "data": {
            "text/plain": [
              "(0.0, 150000.0)"
            ]
          },
          "metadata": {
            "tags": []
          },
          "execution_count": 26
        },
        {
          "output_type": "display_data",
          "data": {
            "image/png": "[encoded data removed]",
            "text/plain": [
              "<Figure size 1582.25x216 with 1 Axes>"
            ]
          },
          "metadata": {
            "tags": [],
            "needs_background": "light"
          }
        }
      ]
    },
    {
      "cell_type": "code",
      "metadata": {
        "colab": {
          "base_uri": "https://localhost:8080/",
          "height": 224
        },
        "id": "09mxs3AWELAO",
        "outputId": "ce59e071-6847-44bf-de4a-658ff151389b"
      },
      "source": [
        "facet=sns.FacetGrid(data,hue=\"상권_변화_지표\",aspect=7)\r\n",
        "facet.map(sns.kdeplot,'점포_수',shade=True)\r\n",
        "facet.set(xlim=(0,data['점포_수'].max()))\r\n",
        "facet.add_legend()\r\n",
        "\r\n",
        "plt.show()"
      ],
      "execution_count": null,
      "outputs": [
        {
          "output_type": "display_data",
          "data": {
            "image/png": "[encoded data removed]",
            "text/plain": [
              "<Figure size 1582.25x216 with 1 Axes>"
            ]
          },
          "metadata": {
            "tags": [],
            "needs_background": "light"
          }
        }
      ]
    },
    {
      "cell_type": "code",
      "metadata": {
        "colab": {
          "base_uri": "https://localhost:8080/",
          "height": 243
        },
        "id": "WNNGZN6zEbbA",
        "outputId": "027d4879-f4a6-4672-981f-da1fb588eede"
      },
      "source": [
        "facet=sns.FacetGrid(data,hue=\"상권_변화_지표\",aspect=7)\r\n",
        "facet.map(sns.kdeplot,'점포_수',shade=True)\r\n",
        "facet.set(xlim=(0,data['점포_수'].max()))\r\n",
        "facet.add_legend()\r\n",
        "\r\n",
        "plt.xlim(0,100)"
      ],
      "execution_count": null,
      "outputs": [
        {
          "output_type": "execute_result",
          "data": {
            "text/plain": [
              "(0.0, 100.0)"
            ]
          },
          "metadata": {
            "tags": []
          },
          "execution_count": 22
        },
        {
          "output_type": "display_data",
          "data": {
            "image/png": "[encoded data removed]",
            "text/plain": [
              "<Figure size 1582.25x216 with 1 Axes>"
            ]
          },
          "metadata": {
            "tags": [],
            "needs_background": "light"
          }
        }
      ]
    },
    {
      "cell_type": "code",
      "metadata": {
        "id": "cs9uwIjgUZHh",
        "colab": {
          "base_uri": "https://localhost:8080/",
          "height": 242
        },
        "outputId": "b94ef2ca-60f0-42cd-cd96-508bae35b272"
      },
      "source": [
        "facet=sns.FacetGrid(data,hue=\"상권_변화_지표\",aspect=7)\r\n",
        "facet.map(sns.kdeplot,'개업_점포_수',shade=True)\r\n",
        "facet.set(xlim=(0,data['개업_점포_수'].max()))\r\n",
        "facet.add_legend()\r\n",
        "\r\n",
        "plt.xlim(0,5)"
      ],
      "execution_count": null,
      "outputs": [
        {
          "output_type": "execute_result",
          "data": {
            "text/plain": [
              "(0.0, 5.0)"
            ]
          },
          "metadata": {
            "tags": []
          },
          "execution_count": 30
        },
        {
          "output_type": "display_data",
          "data": {
            "image/png": "[encoded data removed]",
            "text/plain": [
              "<Figure size 1582.25x216 with 1 Axes>"
            ]
          },
          "metadata": {
            "tags": [],
            "needs_background": "light"
          }
        }
      ]
    },
    {
      "cell_type": "code",
      "metadata": {
        "colab": {
          "base_uri": "https://localhost:8080/",
          "height": 242
        },
        "id": "NFI21XW7EixN",
        "outputId": "2ec7c36b-4d64-4705-b59d-b755e8ef84f3"
      },
      "source": [
        "facet=sns.FacetGrid(data,hue=\"상권_변화_지표\",aspect=7)\r\n",
        "facet.map(sns.kdeplot,'폐업_점포_수',shade=True)\r\n",
        "facet.set(xlim=(0,data['폐업_점포_수'].max()))\r\n",
        "facet.add_legend()\r\n",
        "\r\n",
        "plt.xlim(0,5)"
      ],
      "execution_count": null,
      "outputs": [
        {
          "output_type": "execute_result",
          "data": {
            "text/plain": [
              "(0.0, 5.0)"
            ]
          },
          "metadata": {
            "tags": []
          },
          "execution_count": 28
        },
        {
          "output_type": "display_data",
          "data": {
            "image/png": "[encoded data removed]",
            "text/plain": [
              "<Figure size 1582.25x216 with 1 Axes>"
            ]
          },
          "metadata": {
            "tags": [],
            "needs_background": "light"
          }
        }
      ]
    },
    {
      "cell_type": "code",
      "metadata": {
        "colab": {
          "base_uri": "https://localhost:8080/",
          "height": 297
        },
        "id": "drBR2LKOEzhy",
        "outputId": "11979691-a24b-4aa2-d840-c0503d926ccb"
      },
      "source": [
        "facet=sns.FacetGrid(data,hue=\"상권_변화_지표\",aspect=7)\r\n",
        "facet.map(sns.kdeplot,'총_유동인구_수',shade=True)\r\n",
        "facet.set(xlim=(0,data['총_유동인구_수'].max()))\r\n",
        "facet.add_legend()\r\n",
        "\r\n",
        "plt.show()"
      ],
      "execution_count": null,
      "outputs": [
        {
          "output_type": "stream",
          "text": [
            "/usr/local/lib/python3.6/dist-packages/matplotlib/backends/backend_agg.py:214: RuntimeWarning: Glyph 8722 missing from current font.\n",
            "  font.set_text(s, 0.0, flags=flags)\n",
            "/usr/local/lib/python3.6/dist-packages/matplotlib/backends/backend_agg.py:183: RuntimeWarning: Glyph 8722 missing from current font.\n",
            "  font.set_text(s, 0, flags=flags)\n"
          ],
          "name": "stderr"
        },
        {
          "output_type": "display_data",
          "data": {
            "image/png": "[encoded data removed]",
            "text/plain": [
              "<Figure size 1582.25x216 with 1 Axes>"
            ]
          },
          "metadata": {
            "tags": [],
            "needs_background": "light"
          }
        }
      ]
    },
    {
      "cell_type": "code",
      "metadata": {
        "colab": {
          "base_uri": "https://localhost:8080/",
          "height": 225
        },
        "id": "QdjoWGPLFBxm",
        "outputId": "e1bc0299-ef1a-4647-fe58-ee1797ea663c"
      },
      "source": [
        "facet=sns.FacetGrid(data,hue=\"상권_변화_지표\",aspect=7)\r\n",
        "facet.map(sns.kdeplot,'총 상주인구 수',shade=True)\r\n",
        "facet.set(xlim=(0,data['총 상주인구 수'].max()))\r\n",
        "facet.add_legend()\r\n",
        "\r\n",
        "plt.show()"
      ],
      "execution_count": null,
      "outputs": [
        {
          "output_type": "display_data",
          "data": {
            "image/png": "[encoded data removed]",
            "text/plain": [
              "<Figure size 1582.25x216 with 1 Axes>"
            ]
          },
          "metadata": {
            "tags": [],
            "needs_background": "light"
          }
        }
      ]
    },
    {
      "cell_type": "code",
      "metadata": {
        "colab": {
          "base_uri": "https://localhost:8080/",
          "height": 243
        },
        "id": "hmAy5HUPFI0u",
        "outputId": "4d182264-2e0c-467d-83ca-4bdb5872183b"
      },
      "source": [
        "facet=sns.FacetGrid(data,hue=\"상권_변화_지표\",aspect=7)\r\n",
        "facet.map(sns.kdeplot,'총_직장_인구_수',shade=True)\r\n",
        "facet.set(xlim=(0,data['총_직장_인구_수'].max()))\r\n",
        "facet.add_legend()\r\n",
        "\r\n",
        "plt.xlim(0,10000)"
      ],
      "execution_count": null,
      "outputs": [
        {
          "output_type": "execute_result",
          "data": {
            "text/plain": [
              "(0.0, 10000.0)"
            ]
          },
          "metadata": {
            "tags": []
          },
          "execution_count": 28
        },
        {
          "output_type": "display_data",
          "data": {
            "image/png": "[encoded data removed]",
            "text/plain": [
              "<Figure size 1582.25x216 with 1 Axes>"
            ]
          },
          "metadata": {
            "tags": [],
            "needs_background": "light"
          }
        }
      ]
    },
    {
      "cell_type": "code",
      "metadata": {
        "colab": {
          "base_uri": "https://localhost:8080/",
          "height": 225
        },
        "id": "XE-wYDYOFaUW",
        "outputId": "f0adfdac-2442-40e6-d98d-80e96c957a1f"
      },
      "source": [
        "facet=sns.FacetGrid(data,hue=\"상권_변화_지표\",aspect=7)\r\n",
        "facet.map(sns.kdeplot,'아파트_단지_수',shade=True)\r\n",
        "facet.set(xlim=(0,data['아파트_단지_수'].max()))\r\n",
        "facet.add_legend()\r\n",
        "\r\n",
        "plt.show()"
      ],
      "execution_count": null,
      "outputs": [
        {
          "output_type": "display_data",
          "data": {
            "image/png": "[encoded data removed]",
            "text/plain": [
              "<Figure size 1582.25x216 with 1 Axes>"
            ]
          },
          "metadata": {
            "tags": [],
            "needs_background": "light"
          }
        }
      ]
    },
    {
      "cell_type": "code",
      "metadata": {
        "colab": {
          "base_uri": "https://localhost:8080/",
          "height": 225
        },
        "id": "-CjxEHHdFjBb",
        "outputId": "e4a88fba-01d5-4d9c-aa80-bf305891ec18"
      },
      "source": [
        "facet=sns.FacetGrid(data,hue=\"상권_변화_지표\",aspect=7)\r\n",
        "facet.map(sns.kdeplot,'집객시설_수',shade=True)\r\n",
        "facet.set(xlim=(0,data['집객시설_수'].max()))\r\n",
        "facet.add_legend()\r\n",
        "\r\n",
        "plt.show()"
      ],
      "execution_count": null,
      "outputs": [
        {
          "output_type": "display_data",
          "data": {
            "image/png": "[encoded data removed]",
            "text/plain": [
              "<Figure size 1582.25x216 with 1 Axes>"
            ]
          },
          "metadata": {
            "tags": [],
            "needs_background": "light"
          }
        }
      ]
    },
    {
      "cell_type": "code",
      "metadata": {
        "colab": {
          "base_uri": "https://localhost:8080/",
          "height": 242
        },
        "id": "DQ8kcNheFo8z",
        "outputId": "dc63323b-d9cb-4736-a145-d390d30093a7"
      },
      "source": [
        "facet=sns.FacetGrid(data,hue=\"상권_변화_지표\",aspect=7)\r\n",
        "facet.map(sns.kdeplot,'집객시설_수',shade=True)\r\n",
        "facet.set(xlim=(0,data['집객시설_수'].max()))\r\n",
        "facet.add_legend()\r\n",
        "\r\n",
        "plt.xlim(0,300)"
      ],
      "execution_count": null,
      "outputs": [
        {
          "output_type": "execute_result",
          "data": {
            "text/plain": [
              "(0.0, 300.0)"
            ]
          },
          "metadata": {
            "tags": []
          },
          "execution_count": 29
        },
        {
          "output_type": "display_data",
          "data": {
            "image/png": "[encoded data removed]",
            "text/plain": [
              "<Figure size 1582.25x216 with 1 Axes>"
            ]
          },
          "metadata": {
            "tags": [],
            "needs_background": "light"
          }
        }
      ]
    },
    {
      "cell_type": "code",
      "metadata": {
        "colab": {
          "base_uri": "https://localhost:8080/",
          "height": 225
        },
        "id": "RJmILEhNFvjo",
        "outputId": "21e866ff-eb11-4448-e8de-88542264b1df"
      },
      "source": [
        "facet=sns.FacetGrid(data,hue=\"상권_변화_지표\",aspect=7)\r\n",
        "facet.map(sns.kdeplot,'운영_영업_개월_평균',shade=True)\r\n",
        "facet.set(xlim=(0,data['운영_영업_개월_평균'].max()))\r\n",
        "facet.add_legend()\r\n",
        "\r\n",
        "plt.show()"
      ],
      "execution_count": null,
      "outputs": [
        {
          "output_type": "display_data",
          "data": {
            "image/png": "[encoded data removed]",
            "text/plain": [
              "<Figure size 1582.25x216 with 1 Axes>"
            ]
          },
          "metadata": {
            "tags": [],
            "needs_background": "light"
          }
        }
      ]
    },
    {
      "cell_type": "code",
      "metadata": {
        "colab": {
          "base_uri": "https://localhost:8080/",
          "height": 225
        },
        "id": "4nvaE4TXF8wY",
        "outputId": "1c54a58e-9c1c-4d85-ee24-f2841ff3d540"
      },
      "source": [
        "facet=sns.FacetGrid(data,hue=\"상권_변화_지표\",aspect=7)\r\n",
        "facet.map(sns.kdeplot,'폐업_영업_개월_평균',shade=True)\r\n",
        "facet.set(xlim=(0,data['폐업_영업_개월_평균'].max()))\r\n",
        "facet.add_legend()\r\n",
        "\r\n",
        "plt.show()"
      ],
      "execution_count": null,
      "outputs": [
        {
          "output_type": "display_data",
          "data": {
            "image/png": "[encoded data removed]",
            "text/plain": [
              "<Figure size 1582.25x216 with 1 Axes>"
            ]
          },
          "metadata": {
            "tags": [],
            "needs_background": "light"
          }
        }
      ]
    }
  ]
}