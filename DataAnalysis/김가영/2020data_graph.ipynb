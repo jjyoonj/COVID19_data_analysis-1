{
  "nbformat": 4,
  "nbformat_minor": 0,
  "metadata": {
    "colab": {
      "name": "2020data_graph",
      "provenance": [],
      "authorship_tag": "ABX9TyMTr/2IR9mKSldNwN98rQzD",
      "include_colab_link": true
    },
    "kernelspec": {
      "name": "python3",
      "display_name": "Python 3"
    }
  },
  "cells": [
    {
      "cell_type": "markdown",
      "metadata": {
        "id": "view-in-github",
        "colab_type": "text"
      },
      "source": [
        "<a href=\"https://colab.research.google.com/github/kiyer722/COVID19_data_analysis/blob/main/DataAnalysis/%EA%B9%80%EA%B0%80%EC%98%81/2020data_graph.ipynb\" target=\"_parent\"><img src=\"https://colab.research.google.com/assets/colab-badge.svg\" alt=\"Open In Colab\"/></a>"
      ]
    },
    {
      "cell_type": "code",
      "metadata": {
        "colab": {
          "base_uri": "https://localhost:8080/"
        },
        "id": "CJbcRbZkV8X2",
        "outputId": "f7df4ad0-7eac-418b-cdfd-6dba606d6285"
      },
      "source": [
        "from google.colab import drive \r\n",
        "drive.mount('/content/drive')\r\n"
      ],
      "execution_count": null,
      "outputs": [
        {
          "output_type": "stream",
          "text": [
            "Mounted at /content/drive\n"
          ],
          "name": "stdout"
        }
      ]
    },
    {
      "cell_type": "code",
      "metadata": {
        "colab": {
          "base_uri": "https://localhost:8080/"
        },
        "id": "Uz9uvH8CDdOk",
        "outputId": "57eeaeb4-163f-4409-dd4f-57c5da5ee7a6"
      },
      "source": [
        "!sudo apt-get install -y fonts-nanum\r\n",
        "!sudo fc-cache -fv\r\n",
        "!rm ~/.cache/matplotlib -rf"
      ],
      "execution_count": null,
      "outputs": [
        {
          "output_type": "stream",
          "text": [
            "Reading package lists... Done\n",
            "Building dependency tree       \n",
            "Reading state information... Done\n",
            "The following NEW packages will be installed:\n",
            "  fonts-nanum\n",
            "0 upgraded, 1 newly installed, 0 to remove and 17 not upgraded.\n",
            "Need to get 9,604 kB of archives.\n",
            "After this operation, 29.5 MB of additional disk space will be used.\n",
            "Get:1 http://archive.ubuntu.com/ubuntu bionic/universe amd64 fonts-nanum all 20170925-1 [9,604 kB]\n",
            "Fetched 9,604 kB in 3s (3,186 kB/s)\n",
            "debconf: unable to initialize frontend: Dialog\n",
            "debconf: (No usable dialog-like program is installed, so the dialog based frontend cannot be used. at /usr/share/perl5/Debconf/FrontEnd/Dialog.pm line 76, <> line 1.)\n",
            "debconf: falling back to frontend: Readline\n",
            "debconf: unable to initialize frontend: Readline\n",
            "debconf: (This frontend requires a controlling tty.)\n",
            "debconf: falling back to frontend: Teletype\n",
            "dpkg-preconfigure: unable to re-open stdin: \n",
            "Selecting previously unselected package fonts-nanum.\n",
            "(Reading database ... 146425 files and directories currently installed.)\n",
            "Preparing to unpack .../fonts-nanum_20170925-1_all.deb ...\n",
            "Unpacking fonts-nanum (20170925-1) ...\n",
            "Setting up fonts-nanum (20170925-1) ...\n",
            "Processing triggers for fontconfig (2.12.6-0ubuntu2) ...\n",
            "/usr/share/fonts: caching, new cache contents: 0 fonts, 1 dirs\n",
            "/usr/share/fonts/truetype: caching, new cache contents: 0 fonts, 3 dirs\n",
            "/usr/share/fonts/truetype/humor-sans: caching, new cache contents: 1 fonts, 0 dirs\n",
            "/usr/share/fonts/truetype/liberation: caching, new cache contents: 16 fonts, 0 dirs\n",
            "/usr/share/fonts/truetype/nanum: caching, new cache contents: 10 fonts, 0 dirs\n",
            "/usr/local/share/fonts: caching, new cache contents: 0 fonts, 0 dirs\n",
            "/root/.local/share/fonts: skipping, no such directory\n",
            "/root/.fonts: skipping, no such directory\n",
            "/var/cache/fontconfig: cleaning cache directory\n",
            "/root/.cache/fontconfig: not cleaning non-existent cache directory\n",
            "/root/.fontconfig: not cleaning non-existent cache directory\n",
            "fc-cache: succeeded\n"
          ],
          "name": "stdout"
        }
      ]
    },
    {
      "cell_type": "code",
      "metadata": {
        "id": "rDZmm7NKVxV9"
      },
      "source": [
        "import pandas as pd"
      ],
      "execution_count": null,
      "outputs": []
    },
    {
      "cell_type": "code",
      "metadata": {
        "id": "6m_yzz_Z2D52"
      },
      "source": [
        "import numpy as np"
      ],
      "execution_count": null,
      "outputs": []
    },
    {
      "cell_type": "code",
      "metadata": {
        "id": "Ytpa9PZu9a4j"
      },
      "source": [
        "from matplotlib import pyplot as plt\r\n",
        "\r\n",
        "plt.rc('font', family='NanumBarunGothic') "
      ],
      "execution_count": null,
      "outputs": []
    },
    {
      "cell_type": "code",
      "metadata": {
        "id": "1iS7dLxm_KjU"
      },
      "source": [
        "import seaborn as sns"
      ],
      "execution_count": null,
      "outputs": []
    },
    {
      "cell_type": "code",
      "metadata": {
        "id": "YX_yfhImj80h"
      },
      "source": [
        "filename='/content/drive/MyDrive/covid19데이터마이닝/최종 데이터/2020data(ver1-1).csv'"
      ],
      "execution_count": null,
      "outputs": []
    },
    {
      "cell_type": "code",
      "metadata": {
        "colab": {
          "base_uri": "https://localhost:8080/",
          "height": 314
        },
        "id": "wQ4rdXNvsXAF",
        "outputId": "be6fa96e-69aa-4fb0-b1c6-31d492ffd8b6"
      },
      "source": [
        "data=pd.read_csv(filename, encoding='CP949')\r\n",
        "data.head()"
      ],
      "execution_count": null,
      "outputs": [
        {
          "output_type": "execute_result",
          "data": {
            "text/html": [
              "<div>\n",
              "<style scoped>\n",
              "    .dataframe tbody tr th:only-of-type {\n",
              "        vertical-align: middle;\n",
              "    }\n",
              "\n",
              "    .dataframe tbody tr th {\n",
              "        vertical-align: top;\n",
              "    }\n",
              "\n",
              "    .dataframe thead th {\n",
              "        text-align: right;\n",
              "    }\n",
              "</style>\n",
              "<table border=\"1\" class=\"dataframe\">\n",
              "  <thead>\n",
              "    <tr style=\"text-align: right;\">\n",
              "      <th></th>\n",
              "      <th>기준_년_코드</th>\n",
              "      <th>기준_분기_코드</th>\n",
              "      <th>상권_코드</th>\n",
              "      <th>상권_코드_명</th>\n",
              "      <th>서비스_업종_코드</th>\n",
              "      <th>당월_매출_금액</th>\n",
              "      <th>당월_매출_건수</th>\n",
              "      <th>점포_수</th>\n",
              "      <th>개업_점포_수</th>\n",
              "      <th>폐업_점포_수</th>\n",
              "      <th>총_유동인구_수</th>\n",
              "      <th>총 상주인구 수</th>\n",
              "      <th>총_직장_인구_수</th>\n",
              "      <th>아파트_단지_수</th>\n",
              "      <th>집객시설_수</th>\n",
              "      <th>상권_변화_지표</th>\n",
              "      <th>상권_변화_지표_명</th>\n",
              "      <th>운영_영업_개월_평균</th>\n",
              "      <th>폐업_영업_개월_평균</th>\n",
              "    </tr>\n",
              "  </thead>\n",
              "  <tbody>\n",
              "    <tr>\n",
              "      <th>0</th>\n",
              "      <td>2020</td>\n",
              "      <td>3</td>\n",
              "      <td>1001496</td>\n",
              "      <td>강남 마이스 관광특구</td>\n",
              "      <td>CS300043</td>\n",
              "      <td>1.326503e+07</td>\n",
              "      <td>277</td>\n",
              "      <td>8</td>\n",
              "      <td>0</td>\n",
              "      <td>0</td>\n",
              "      <td>97662</td>\n",
              "      <td>24</td>\n",
              "      <td>15904</td>\n",
              "      <td>0</td>\n",
              "      <td>52</td>\n",
              "      <td>HH</td>\n",
              "      <td>정체</td>\n",
              "      <td>123</td>\n",
              "      <td>63</td>\n",
              "    </tr>\n",
              "    <tr>\n",
              "      <th>1</th>\n",
              "      <td>2020</td>\n",
              "      <td>3</td>\n",
              "      <td>1001496</td>\n",
              "      <td>강남 마이스 관광특구</td>\n",
              "      <td>CS300032</td>\n",
              "      <td>1.703213e+09</td>\n",
              "      <td>7224</td>\n",
              "      <td>8</td>\n",
              "      <td>0</td>\n",
              "      <td>0</td>\n",
              "      <td>97662</td>\n",
              "      <td>24</td>\n",
              "      <td>15904</td>\n",
              "      <td>0</td>\n",
              "      <td>52</td>\n",
              "      <td>HH</td>\n",
              "      <td>정체</td>\n",
              "      <td>123</td>\n",
              "      <td>63</td>\n",
              "    </tr>\n",
              "    <tr>\n",
              "      <th>2</th>\n",
              "      <td>2020</td>\n",
              "      <td>3</td>\n",
              "      <td>1001496</td>\n",
              "      <td>강남 마이스 관광특구</td>\n",
              "      <td>CS300031</td>\n",
              "      <td>8.238591e+09</td>\n",
              "      <td>5286</td>\n",
              "      <td>6</td>\n",
              "      <td>0</td>\n",
              "      <td>0</td>\n",
              "      <td>97662</td>\n",
              "      <td>24</td>\n",
              "      <td>15904</td>\n",
              "      <td>0</td>\n",
              "      <td>52</td>\n",
              "      <td>HH</td>\n",
              "      <td>정체</td>\n",
              "      <td>123</td>\n",
              "      <td>63</td>\n",
              "    </tr>\n",
              "    <tr>\n",
              "      <th>3</th>\n",
              "      <td>2020</td>\n",
              "      <td>3</td>\n",
              "      <td>1001496</td>\n",
              "      <td>강남 마이스 관광특구</td>\n",
              "      <td>CS300028</td>\n",
              "      <td>3.308578e+08</td>\n",
              "      <td>8031</td>\n",
              "      <td>6</td>\n",
              "      <td>0</td>\n",
              "      <td>0</td>\n",
              "      <td>97662</td>\n",
              "      <td>24</td>\n",
              "      <td>15904</td>\n",
              "      <td>0</td>\n",
              "      <td>52</td>\n",
              "      <td>HH</td>\n",
              "      <td>정체</td>\n",
              "      <td>123</td>\n",
              "      <td>63</td>\n",
              "    </tr>\n",
              "    <tr>\n",
              "      <th>4</th>\n",
              "      <td>2020</td>\n",
              "      <td>3</td>\n",
              "      <td>1001496</td>\n",
              "      <td>강남 마이스 관광특구</td>\n",
              "      <td>CS300027</td>\n",
              "      <td>1.913032e+09</td>\n",
              "      <td>66441</td>\n",
              "      <td>6</td>\n",
              "      <td>0</td>\n",
              "      <td>0</td>\n",
              "      <td>97662</td>\n",
              "      <td>24</td>\n",
              "      <td>15904</td>\n",
              "      <td>0</td>\n",
              "      <td>52</td>\n",
              "      <td>HH</td>\n",
              "      <td>정체</td>\n",
              "      <td>123</td>\n",
              "      <td>63</td>\n",
              "    </tr>\n",
              "  </tbody>\n",
              "</table>\n",
              "</div>"
            ],
            "text/plain": [
              "   기준_년_코드  기준_분기_코드    상권_코드  ... 상권_변화_지표_명 운영_영업_개월_평균  폐업_영업_개월_평균\n",
              "0     2020         3  1001496  ...         정체         123           63\n",
              "1     2020         3  1001496  ...         정체         123           63\n",
              "2     2020         3  1001496  ...         정체         123           63\n",
              "3     2020         3  1001496  ...         정체         123           63\n",
              "4     2020         3  1001496  ...         정체         123           63\n",
              "\n",
              "[5 rows x 19 columns]"
            ]
          },
          "metadata": {
            "tags": []
          },
          "execution_count": 9
        }
      ]
    },
    {
      "cell_type": "code",
      "metadata": {
        "colab": {
          "base_uri": "https://localhost:8080/",
          "height": 231
        },
        "id": "BGAG7RrrsGnC",
        "outputId": "e2d80345-9f6d-46c7-b7c4-dff6fad84351"
      },
      "source": [
        "data.tail()"
      ],
      "execution_count": null,
      "outputs": [
        {
          "output_type": "execute_result",
          "data": {
            "text/html": [
              "<div>\n",
              "<style scoped>\n",
              "    .dataframe tbody tr th:only-of-type {\n",
              "        vertical-align: middle;\n",
              "    }\n",
              "\n",
              "    .dataframe tbody tr th {\n",
              "        vertical-align: top;\n",
              "    }\n",
              "\n",
              "    .dataframe thead th {\n",
              "        text-align: right;\n",
              "    }\n",
              "</style>\n",
              "<table border=\"1\" class=\"dataframe\">\n",
              "  <thead>\n",
              "    <tr style=\"text-align: right;\">\n",
              "      <th></th>\n",
              "      <th>기준_년_코드</th>\n",
              "      <th>기준_분기_코드</th>\n",
              "      <th>상권_코드</th>\n",
              "      <th>상권_코드_명</th>\n",
              "      <th>서비스_업종_코드</th>\n",
              "      <th>당월_매출_금액</th>\n",
              "      <th>당월_매출_건수</th>\n",
              "      <th>점포_수</th>\n",
              "      <th>개업_점포_수</th>\n",
              "      <th>폐업_점포_수</th>\n",
              "      <th>총_유동인구_수</th>\n",
              "      <th>총 상주인구 수</th>\n",
              "      <th>총_직장_인구_수</th>\n",
              "      <th>아파트_단지_수</th>\n",
              "      <th>집객시설_수</th>\n",
              "      <th>상권_변화_지표</th>\n",
              "      <th>상권_변화_지표_명</th>\n",
              "      <th>운영_영업_개월_평균</th>\n",
              "      <th>폐업_영업_개월_평균</th>\n",
              "    </tr>\n",
              "  </thead>\n",
              "  <tbody>\n",
              "    <tr>\n",
              "      <th>98560</th>\n",
              "      <td>2020</td>\n",
              "      <td>1</td>\n",
              "      <td>1000001</td>\n",
              "      <td>계동길</td>\n",
              "      <td>CS100005</td>\n",
              "      <td>257814129.0</td>\n",
              "      <td>27092</td>\n",
              "      <td>2</td>\n",
              "      <td>0</td>\n",
              "      <td>0</td>\n",
              "      <td>336343</td>\n",
              "      <td>1800</td>\n",
              "      <td>842</td>\n",
              "      <td>26</td>\n",
              "      <td>73</td>\n",
              "      <td>LH</td>\n",
              "      <td>상권확장</td>\n",
              "      <td>97</td>\n",
              "      <td>56</td>\n",
              "    </tr>\n",
              "    <tr>\n",
              "      <th>98561</th>\n",
              "      <td>2020</td>\n",
              "      <td>1</td>\n",
              "      <td>1000001</td>\n",
              "      <td>계동길</td>\n",
              "      <td>CS100004</td>\n",
              "      <td>156728306.0</td>\n",
              "      <td>3589</td>\n",
              "      <td>3</td>\n",
              "      <td>0</td>\n",
              "      <td>0</td>\n",
              "      <td>336343</td>\n",
              "      <td>1800</td>\n",
              "      <td>842</td>\n",
              "      <td>26</td>\n",
              "      <td>73</td>\n",
              "      <td>LH</td>\n",
              "      <td>상권확장</td>\n",
              "      <td>97</td>\n",
              "      <td>56</td>\n",
              "    </tr>\n",
              "    <tr>\n",
              "      <th>98562</th>\n",
              "      <td>2020</td>\n",
              "      <td>1</td>\n",
              "      <td>1000001</td>\n",
              "      <td>계동길</td>\n",
              "      <td>CS100003</td>\n",
              "      <td>55484866.0</td>\n",
              "      <td>1272</td>\n",
              "      <td>3</td>\n",
              "      <td>0</td>\n",
              "      <td>0</td>\n",
              "      <td>336343</td>\n",
              "      <td>1800</td>\n",
              "      <td>842</td>\n",
              "      <td>26</td>\n",
              "      <td>73</td>\n",
              "      <td>LH</td>\n",
              "      <td>상권확장</td>\n",
              "      <td>97</td>\n",
              "      <td>56</td>\n",
              "    </tr>\n",
              "    <tr>\n",
              "      <th>98563</th>\n",
              "      <td>2020</td>\n",
              "      <td>1</td>\n",
              "      <td>1000001</td>\n",
              "      <td>계동길</td>\n",
              "      <td>CS100002</td>\n",
              "      <td>25767161.0</td>\n",
              "      <td>1413</td>\n",
              "      <td>0</td>\n",
              "      <td>0</td>\n",
              "      <td>0</td>\n",
              "      <td>336343</td>\n",
              "      <td>1800</td>\n",
              "      <td>842</td>\n",
              "      <td>26</td>\n",
              "      <td>73</td>\n",
              "      <td>LH</td>\n",
              "      <td>상권확장</td>\n",
              "      <td>97</td>\n",
              "      <td>56</td>\n",
              "    </tr>\n",
              "    <tr>\n",
              "      <th>98564</th>\n",
              "      <td>2020</td>\n",
              "      <td>1</td>\n",
              "      <td>1000001</td>\n",
              "      <td>계동길</td>\n",
              "      <td>CS100001</td>\n",
              "      <td>431442455.0</td>\n",
              "      <td>18548</td>\n",
              "      <td>19</td>\n",
              "      <td>0</td>\n",
              "      <td>1</td>\n",
              "      <td>336343</td>\n",
              "      <td>1800</td>\n",
              "      <td>842</td>\n",
              "      <td>26</td>\n",
              "      <td>73</td>\n",
              "      <td>LH</td>\n",
              "      <td>상권확장</td>\n",
              "      <td>97</td>\n",
              "      <td>56</td>\n",
              "    </tr>\n",
              "  </tbody>\n",
              "</table>\n",
              "</div>"
            ],
            "text/plain": [
              "       기준_년_코드  기준_분기_코드    상권_코드  ... 상권_변화_지표_명 운영_영업_개월_평균  폐업_영업_개월_평균\n",
              "98560     2020         1  1000001  ...       상권확장          97           56\n",
              "98561     2020         1  1000001  ...       상권확장          97           56\n",
              "98562     2020         1  1000001  ...       상권확장          97           56\n",
              "98563     2020         1  1000001  ...       상권확장          97           56\n",
              "98564     2020         1  1000001  ...       상권확장          97           56\n",
              "\n",
              "[5 rows x 19 columns]"
            ]
          },
          "metadata": {
            "tags": []
          },
          "execution_count": 10
        }
      ]
    },
    {
      "cell_type": "code",
      "metadata": {
        "id": "5S3X5fctshL2"
      },
      "source": [
        "cols=data.columns[[0,1,2,3,4,5,6,7,8,9,10,11,12,13,14,17,18,15,16]]\r\n",
        "data=data[cols]"
      ],
      "execution_count": null,
      "outputs": []
    },
    {
      "cell_type": "code",
      "metadata": {
        "colab": {
          "base_uri": "https://localhost:8080/",
          "height": 314
        },
        "id": "UuHhIOZnzL4p",
        "outputId": "0ce52779-2d00-450b-eea7-d3250bc1a0bc"
      },
      "source": [
        "data.head()"
      ],
      "execution_count": null,
      "outputs": [
        {
          "output_type": "execute_result",
          "data": {
            "text/html": [
              "<div>\n",
              "<style scoped>\n",
              "    .dataframe tbody tr th:only-of-type {\n",
              "        vertical-align: middle;\n",
              "    }\n",
              "\n",
              "    .dataframe tbody tr th {\n",
              "        vertical-align: top;\n",
              "    }\n",
              "\n",
              "    .dataframe thead th {\n",
              "        text-align: right;\n",
              "    }\n",
              "</style>\n",
              "<table border=\"1\" class=\"dataframe\">\n",
              "  <thead>\n",
              "    <tr style=\"text-align: right;\">\n",
              "      <th></th>\n",
              "      <th>기준_년_코드</th>\n",
              "      <th>기준_분기_코드</th>\n",
              "      <th>상권_코드</th>\n",
              "      <th>상권_코드_명</th>\n",
              "      <th>서비스_업종_코드</th>\n",
              "      <th>당월_매출_금액</th>\n",
              "      <th>당월_매출_건수</th>\n",
              "      <th>점포_수</th>\n",
              "      <th>개업_점포_수</th>\n",
              "      <th>폐업_점포_수</th>\n",
              "      <th>총_유동인구_수</th>\n",
              "      <th>총 상주인구 수</th>\n",
              "      <th>총_직장_인구_수</th>\n",
              "      <th>아파트_단지_수</th>\n",
              "      <th>집객시설_수</th>\n",
              "      <th>운영_영업_개월_평균</th>\n",
              "      <th>폐업_영업_개월_평균</th>\n",
              "      <th>상권_변화_지표</th>\n",
              "      <th>상권_변화_지표_명</th>\n",
              "    </tr>\n",
              "  </thead>\n",
              "  <tbody>\n",
              "    <tr>\n",
              "      <th>0</th>\n",
              "      <td>2020</td>\n",
              "      <td>3</td>\n",
              "      <td>1001496</td>\n",
              "      <td>강남 마이스 관광특구</td>\n",
              "      <td>CS300043</td>\n",
              "      <td>1.326503e+07</td>\n",
              "      <td>277</td>\n",
              "      <td>8</td>\n",
              "      <td>0</td>\n",
              "      <td>0</td>\n",
              "      <td>97662</td>\n",
              "      <td>24</td>\n",
              "      <td>15904</td>\n",
              "      <td>0</td>\n",
              "      <td>52</td>\n",
              "      <td>123</td>\n",
              "      <td>63</td>\n",
              "      <td>HH</td>\n",
              "      <td>정체</td>\n",
              "    </tr>\n",
              "    <tr>\n",
              "      <th>1</th>\n",
              "      <td>2020</td>\n",
              "      <td>3</td>\n",
              "      <td>1001496</td>\n",
              "      <td>강남 마이스 관광특구</td>\n",
              "      <td>CS300032</td>\n",
              "      <td>1.703213e+09</td>\n",
              "      <td>7224</td>\n",
              "      <td>8</td>\n",
              "      <td>0</td>\n",
              "      <td>0</td>\n",
              "      <td>97662</td>\n",
              "      <td>24</td>\n",
              "      <td>15904</td>\n",
              "      <td>0</td>\n",
              "      <td>52</td>\n",
              "      <td>123</td>\n",
              "      <td>63</td>\n",
              "      <td>HH</td>\n",
              "      <td>정체</td>\n",
              "    </tr>\n",
              "    <tr>\n",
              "      <th>2</th>\n",
              "      <td>2020</td>\n",
              "      <td>3</td>\n",
              "      <td>1001496</td>\n",
              "      <td>강남 마이스 관광특구</td>\n",
              "      <td>CS300031</td>\n",
              "      <td>8.238591e+09</td>\n",
              "      <td>5286</td>\n",
              "      <td>6</td>\n",
              "      <td>0</td>\n",
              "      <td>0</td>\n",
              "      <td>97662</td>\n",
              "      <td>24</td>\n",
              "      <td>15904</td>\n",
              "      <td>0</td>\n",
              "      <td>52</td>\n",
              "      <td>123</td>\n",
              "      <td>63</td>\n",
              "      <td>HH</td>\n",
              "      <td>정체</td>\n",
              "    </tr>\n",
              "    <tr>\n",
              "      <th>3</th>\n",
              "      <td>2020</td>\n",
              "      <td>3</td>\n",
              "      <td>1001496</td>\n",
              "      <td>강남 마이스 관광특구</td>\n",
              "      <td>CS300028</td>\n",
              "      <td>3.308578e+08</td>\n",
              "      <td>8031</td>\n",
              "      <td>6</td>\n",
              "      <td>0</td>\n",
              "      <td>0</td>\n",
              "      <td>97662</td>\n",
              "      <td>24</td>\n",
              "      <td>15904</td>\n",
              "      <td>0</td>\n",
              "      <td>52</td>\n",
              "      <td>123</td>\n",
              "      <td>63</td>\n",
              "      <td>HH</td>\n",
              "      <td>정체</td>\n",
              "    </tr>\n",
              "    <tr>\n",
              "      <th>4</th>\n",
              "      <td>2020</td>\n",
              "      <td>3</td>\n",
              "      <td>1001496</td>\n",
              "      <td>강남 마이스 관광특구</td>\n",
              "      <td>CS300027</td>\n",
              "      <td>1.913032e+09</td>\n",
              "      <td>66441</td>\n",
              "      <td>6</td>\n",
              "      <td>0</td>\n",
              "      <td>0</td>\n",
              "      <td>97662</td>\n",
              "      <td>24</td>\n",
              "      <td>15904</td>\n",
              "      <td>0</td>\n",
              "      <td>52</td>\n",
              "      <td>123</td>\n",
              "      <td>63</td>\n",
              "      <td>HH</td>\n",
              "      <td>정체</td>\n",
              "    </tr>\n",
              "  </tbody>\n",
              "</table>\n",
              "</div>"
            ],
            "text/plain": [
              "   기준_년_코드  기준_분기_코드    상권_코드  ... 폐업_영업_개월_평균 상권_변화_지표  상권_변화_지표_명\n",
              "0     2020         3  1001496  ...          63       HH          정체\n",
              "1     2020         3  1001496  ...          63       HH          정체\n",
              "2     2020         3  1001496  ...          63       HH          정체\n",
              "3     2020         3  1001496  ...          63       HH          정체\n",
              "4     2020         3  1001496  ...          63       HH          정체\n",
              "\n",
              "[5 rows x 19 columns]"
            ]
          },
          "metadata": {
            "tags": []
          },
          "execution_count": 12
        }
      ]
    },
    {
      "cell_type": "code",
      "metadata": {
        "colab": {
          "base_uri": "https://localhost:8080/",
          "height": 297
        },
        "id": "4SB4E0g5zbNj",
        "outputId": "825c03e7-e0c9-47ff-9a06-8b714c017ad0"
      },
      "source": [
        "data=data.drop(data.columns[[18]],axis='columns')\r\n",
        "data.head()"
      ],
      "execution_count": null,
      "outputs": [
        {
          "output_type": "execute_result",
          "data": {
            "text/html": [
              "<div>\n",
              "<style scoped>\n",
              "    .dataframe tbody tr th:only-of-type {\n",
              "        vertical-align: middle;\n",
              "    }\n",
              "\n",
              "    .dataframe tbody tr th {\n",
              "        vertical-align: top;\n",
              "    }\n",
              "\n",
              "    .dataframe thead th {\n",
              "        text-align: right;\n",
              "    }\n",
              "</style>\n",
              "<table border=\"1\" class=\"dataframe\">\n",
              "  <thead>\n",
              "    <tr style=\"text-align: right;\">\n",
              "      <th></th>\n",
              "      <th>기준_년_코드</th>\n",
              "      <th>기준_분기_코드</th>\n",
              "      <th>상권_코드</th>\n",
              "      <th>상권_코드_명</th>\n",
              "      <th>서비스_업종_코드</th>\n",
              "      <th>당월_매출_금액</th>\n",
              "      <th>당월_매출_건수</th>\n",
              "      <th>점포_수</th>\n",
              "      <th>개업_점포_수</th>\n",
              "      <th>폐업_점포_수</th>\n",
              "      <th>총_유동인구_수</th>\n",
              "      <th>총 상주인구 수</th>\n",
              "      <th>총_직장_인구_수</th>\n",
              "      <th>아파트_단지_수</th>\n",
              "      <th>집객시설_수</th>\n",
              "      <th>운영_영업_개월_평균</th>\n",
              "      <th>폐업_영업_개월_평균</th>\n",
              "      <th>상권_변화_지표</th>\n",
              "    </tr>\n",
              "  </thead>\n",
              "  <tbody>\n",
              "    <tr>\n",
              "      <th>0</th>\n",
              "      <td>2020</td>\n",
              "      <td>3</td>\n",
              "      <td>1001496</td>\n",
              "      <td>강남 마이스 관광특구</td>\n",
              "      <td>CS300043</td>\n",
              "      <td>1.326503e+07</td>\n",
              "      <td>277</td>\n",
              "      <td>8</td>\n",
              "      <td>0</td>\n",
              "      <td>0</td>\n",
              "      <td>97662</td>\n",
              "      <td>24</td>\n",
              "      <td>15904</td>\n",
              "      <td>0</td>\n",
              "      <td>52</td>\n",
              "      <td>123</td>\n",
              "      <td>63</td>\n",
              "      <td>HH</td>\n",
              "    </tr>\n",
              "    <tr>\n",
              "      <th>1</th>\n",
              "      <td>2020</td>\n",
              "      <td>3</td>\n",
              "      <td>1001496</td>\n",
              "      <td>강남 마이스 관광특구</td>\n",
              "      <td>CS300032</td>\n",
              "      <td>1.703213e+09</td>\n",
              "      <td>7224</td>\n",
              "      <td>8</td>\n",
              "      <td>0</td>\n",
              "      <td>0</td>\n",
              "      <td>97662</td>\n",
              "      <td>24</td>\n",
              "      <td>15904</td>\n",
              "      <td>0</td>\n",
              "      <td>52</td>\n",
              "      <td>123</td>\n",
              "      <td>63</td>\n",
              "      <td>HH</td>\n",
              "    </tr>\n",
              "    <tr>\n",
              "      <th>2</th>\n",
              "      <td>2020</td>\n",
              "      <td>3</td>\n",
              "      <td>1001496</td>\n",
              "      <td>강남 마이스 관광특구</td>\n",
              "      <td>CS300031</td>\n",
              "      <td>8.238591e+09</td>\n",
              "      <td>5286</td>\n",
              "      <td>6</td>\n",
              "      <td>0</td>\n",
              "      <td>0</td>\n",
              "      <td>97662</td>\n",
              "      <td>24</td>\n",
              "      <td>15904</td>\n",
              "      <td>0</td>\n",
              "      <td>52</td>\n",
              "      <td>123</td>\n",
              "      <td>63</td>\n",
              "      <td>HH</td>\n",
              "    </tr>\n",
              "    <tr>\n",
              "      <th>3</th>\n",
              "      <td>2020</td>\n",
              "      <td>3</td>\n",
              "      <td>1001496</td>\n",
              "      <td>강남 마이스 관광특구</td>\n",
              "      <td>CS300028</td>\n",
              "      <td>3.308578e+08</td>\n",
              "      <td>8031</td>\n",
              "      <td>6</td>\n",
              "      <td>0</td>\n",
              "      <td>0</td>\n",
              "      <td>97662</td>\n",
              "      <td>24</td>\n",
              "      <td>15904</td>\n",
              "      <td>0</td>\n",
              "      <td>52</td>\n",
              "      <td>123</td>\n",
              "      <td>63</td>\n",
              "      <td>HH</td>\n",
              "    </tr>\n",
              "    <tr>\n",
              "      <th>4</th>\n",
              "      <td>2020</td>\n",
              "      <td>3</td>\n",
              "      <td>1001496</td>\n",
              "      <td>강남 마이스 관광특구</td>\n",
              "      <td>CS300027</td>\n",
              "      <td>1.913032e+09</td>\n",
              "      <td>66441</td>\n",
              "      <td>6</td>\n",
              "      <td>0</td>\n",
              "      <td>0</td>\n",
              "      <td>97662</td>\n",
              "      <td>24</td>\n",
              "      <td>15904</td>\n",
              "      <td>0</td>\n",
              "      <td>52</td>\n",
              "      <td>123</td>\n",
              "      <td>63</td>\n",
              "      <td>HH</td>\n",
              "    </tr>\n",
              "  </tbody>\n",
              "</table>\n",
              "</div>"
            ],
            "text/plain": [
              "   기준_년_코드  기준_분기_코드    상권_코드  ... 운영_영업_개월_평균 폐업_영업_개월_평균  상권_변화_지표\n",
              "0     2020         3  1001496  ...         123          63        HH\n",
              "1     2020         3  1001496  ...         123          63        HH\n",
              "2     2020         3  1001496  ...         123          63        HH\n",
              "3     2020         3  1001496  ...         123          63        HH\n",
              "4     2020         3  1001496  ...         123          63        HH\n",
              "\n",
              "[5 rows x 18 columns]"
            ]
          },
          "metadata": {
            "tags": []
          },
          "execution_count": 13
        }
      ]
    },
    {
      "cell_type": "code",
      "metadata": {
        "id": "icICH5co0RAw"
      },
      "source": [
        "data=data.replace(\"LL\",1)"
      ],
      "execution_count": null,
      "outputs": []
    },
    {
      "cell_type": "code",
      "metadata": {
        "id": "kXRQ7BOU6gQl"
      },
      "source": [
        "data=data.replace(\"HH\",1)"
      ],
      "execution_count": null,
      "outputs": []
    },
    {
      "cell_type": "code",
      "metadata": {
        "id": "hCefiWXi6gr7"
      },
      "source": [
        "data=data.replace(\"LH\",1)"
      ],
      "execution_count": null,
      "outputs": []
    },
    {
      "cell_type": "code",
      "metadata": {
        "id": "G_EpdCpa6g00"
      },
      "source": [
        "data=data.replace(\"HL\",0)"
      ],
      "execution_count": null,
      "outputs": []
    },
    {
      "cell_type": "code",
      "metadata": {
        "colab": {
          "base_uri": "https://localhost:8080/",
          "height": 506
        },
        "id": "ZoBtWmY16xN7",
        "outputId": "ca79fe0d-a3a3-46c8-de14-3b6aa417e1f9"
      },
      "source": [
        "data"
      ],
      "execution_count": null,
      "outputs": [
        {
          "output_type": "execute_result",
          "data": {
            "text/html": [
              "<div>\n",
              "<style scoped>\n",
              "    .dataframe tbody tr th:only-of-type {\n",
              "        vertical-align: middle;\n",
              "    }\n",
              "\n",
              "    .dataframe tbody tr th {\n",
              "        vertical-align: top;\n",
              "    }\n",
              "\n",
              "    .dataframe thead th {\n",
              "        text-align: right;\n",
              "    }\n",
              "</style>\n",
              "<table border=\"1\" class=\"dataframe\">\n",
              "  <thead>\n",
              "    <tr style=\"text-align: right;\">\n",
              "      <th></th>\n",
              "      <th>기준_년_코드</th>\n",
              "      <th>기준_분기_코드</th>\n",
              "      <th>상권_코드</th>\n",
              "      <th>상권_코드_명</th>\n",
              "      <th>서비스_업종_코드</th>\n",
              "      <th>당월_매출_금액</th>\n",
              "      <th>당월_매출_건수</th>\n",
              "      <th>점포_수</th>\n",
              "      <th>개업_점포_수</th>\n",
              "      <th>폐업_점포_수</th>\n",
              "      <th>총_유동인구_수</th>\n",
              "      <th>총 상주인구 수</th>\n",
              "      <th>총_직장_인구_수</th>\n",
              "      <th>아파트_단지_수</th>\n",
              "      <th>집객시설_수</th>\n",
              "      <th>운영_영업_개월_평균</th>\n",
              "      <th>폐업_영업_개월_평균</th>\n",
              "      <th>상권_변화_지표</th>\n",
              "    </tr>\n",
              "  </thead>\n",
              "  <tbody>\n",
              "    <tr>\n",
              "      <th>0</th>\n",
              "      <td>2020</td>\n",
              "      <td>3</td>\n",
              "      <td>1001496</td>\n",
              "      <td>강남 마이스 관광특구</td>\n",
              "      <td>CS300043</td>\n",
              "      <td>1.326503e+07</td>\n",
              "      <td>277</td>\n",
              "      <td>8</td>\n",
              "      <td>0</td>\n",
              "      <td>0</td>\n",
              "      <td>97662</td>\n",
              "      <td>24</td>\n",
              "      <td>15904</td>\n",
              "      <td>0</td>\n",
              "      <td>52</td>\n",
              "      <td>123</td>\n",
              "      <td>63</td>\n",
              "      <td>1</td>\n",
              "    </tr>\n",
              "    <tr>\n",
              "      <th>1</th>\n",
              "      <td>2020</td>\n",
              "      <td>3</td>\n",
              "      <td>1001496</td>\n",
              "      <td>강남 마이스 관광특구</td>\n",
              "      <td>CS300032</td>\n",
              "      <td>1.703213e+09</td>\n",
              "      <td>7224</td>\n",
              "      <td>8</td>\n",
              "      <td>0</td>\n",
              "      <td>0</td>\n",
              "      <td>97662</td>\n",
              "      <td>24</td>\n",
              "      <td>15904</td>\n",
              "      <td>0</td>\n",
              "      <td>52</td>\n",
              "      <td>123</td>\n",
              "      <td>63</td>\n",
              "      <td>1</td>\n",
              "    </tr>\n",
              "    <tr>\n",
              "      <th>2</th>\n",
              "      <td>2020</td>\n",
              "      <td>3</td>\n",
              "      <td>1001496</td>\n",
              "      <td>강남 마이스 관광특구</td>\n",
              "      <td>CS300031</td>\n",
              "      <td>8.238591e+09</td>\n",
              "      <td>5286</td>\n",
              "      <td>6</td>\n",
              "      <td>0</td>\n",
              "      <td>0</td>\n",
              "      <td>97662</td>\n",
              "      <td>24</td>\n",
              "      <td>15904</td>\n",
              "      <td>0</td>\n",
              "      <td>52</td>\n",
              "      <td>123</td>\n",
              "      <td>63</td>\n",
              "      <td>1</td>\n",
              "    </tr>\n",
              "    <tr>\n",
              "      <th>3</th>\n",
              "      <td>2020</td>\n",
              "      <td>3</td>\n",
              "      <td>1001496</td>\n",
              "      <td>강남 마이스 관광특구</td>\n",
              "      <td>CS300028</td>\n",
              "      <td>3.308578e+08</td>\n",
              "      <td>8031</td>\n",
              "      <td>6</td>\n",
              "      <td>0</td>\n",
              "      <td>0</td>\n",
              "      <td>97662</td>\n",
              "      <td>24</td>\n",
              "      <td>15904</td>\n",
              "      <td>0</td>\n",
              "      <td>52</td>\n",
              "      <td>123</td>\n",
              "      <td>63</td>\n",
              "      <td>1</td>\n",
              "    </tr>\n",
              "    <tr>\n",
              "      <th>4</th>\n",
              "      <td>2020</td>\n",
              "      <td>3</td>\n",
              "      <td>1001496</td>\n",
              "      <td>강남 마이스 관광특구</td>\n",
              "      <td>CS300027</td>\n",
              "      <td>1.913032e+09</td>\n",
              "      <td>66441</td>\n",
              "      <td>6</td>\n",
              "      <td>0</td>\n",
              "      <td>0</td>\n",
              "      <td>97662</td>\n",
              "      <td>24</td>\n",
              "      <td>15904</td>\n",
              "      <td>0</td>\n",
              "      <td>52</td>\n",
              "      <td>123</td>\n",
              "      <td>63</td>\n",
              "      <td>1</td>\n",
              "    </tr>\n",
              "    <tr>\n",
              "      <th>...</th>\n",
              "      <td>...</td>\n",
              "      <td>...</td>\n",
              "      <td>...</td>\n",
              "      <td>...</td>\n",
              "      <td>...</td>\n",
              "      <td>...</td>\n",
              "      <td>...</td>\n",
              "      <td>...</td>\n",
              "      <td>...</td>\n",
              "      <td>...</td>\n",
              "      <td>...</td>\n",
              "      <td>...</td>\n",
              "      <td>...</td>\n",
              "      <td>...</td>\n",
              "      <td>...</td>\n",
              "      <td>...</td>\n",
              "      <td>...</td>\n",
              "      <td>...</td>\n",
              "    </tr>\n",
              "    <tr>\n",
              "      <th>98560</th>\n",
              "      <td>2020</td>\n",
              "      <td>1</td>\n",
              "      <td>1000001</td>\n",
              "      <td>계동길</td>\n",
              "      <td>CS100005</td>\n",
              "      <td>2.578141e+08</td>\n",
              "      <td>27092</td>\n",
              "      <td>2</td>\n",
              "      <td>0</td>\n",
              "      <td>0</td>\n",
              "      <td>336343</td>\n",
              "      <td>1800</td>\n",
              "      <td>842</td>\n",
              "      <td>26</td>\n",
              "      <td>73</td>\n",
              "      <td>97</td>\n",
              "      <td>56</td>\n",
              "      <td>1</td>\n",
              "    </tr>\n",
              "    <tr>\n",
              "      <th>98561</th>\n",
              "      <td>2020</td>\n",
              "      <td>1</td>\n",
              "      <td>1000001</td>\n",
              "      <td>계동길</td>\n",
              "      <td>CS100004</td>\n",
              "      <td>1.567283e+08</td>\n",
              "      <td>3589</td>\n",
              "      <td>3</td>\n",
              "      <td>0</td>\n",
              "      <td>0</td>\n",
              "      <td>336343</td>\n",
              "      <td>1800</td>\n",
              "      <td>842</td>\n",
              "      <td>26</td>\n",
              "      <td>73</td>\n",
              "      <td>97</td>\n",
              "      <td>56</td>\n",
              "      <td>1</td>\n",
              "    </tr>\n",
              "    <tr>\n",
              "      <th>98562</th>\n",
              "      <td>2020</td>\n",
              "      <td>1</td>\n",
              "      <td>1000001</td>\n",
              "      <td>계동길</td>\n",
              "      <td>CS100003</td>\n",
              "      <td>5.548487e+07</td>\n",
              "      <td>1272</td>\n",
              "      <td>3</td>\n",
              "      <td>0</td>\n",
              "      <td>0</td>\n",
              "      <td>336343</td>\n",
              "      <td>1800</td>\n",
              "      <td>842</td>\n",
              "      <td>26</td>\n",
              "      <td>73</td>\n",
              "      <td>97</td>\n",
              "      <td>56</td>\n",
              "      <td>1</td>\n",
              "    </tr>\n",
              "    <tr>\n",
              "      <th>98563</th>\n",
              "      <td>2020</td>\n",
              "      <td>1</td>\n",
              "      <td>1000001</td>\n",
              "      <td>계동길</td>\n",
              "      <td>CS100002</td>\n",
              "      <td>2.576716e+07</td>\n",
              "      <td>1413</td>\n",
              "      <td>0</td>\n",
              "      <td>0</td>\n",
              "      <td>0</td>\n",
              "      <td>336343</td>\n",
              "      <td>1800</td>\n",
              "      <td>842</td>\n",
              "      <td>26</td>\n",
              "      <td>73</td>\n",
              "      <td>97</td>\n",
              "      <td>56</td>\n",
              "      <td>1</td>\n",
              "    </tr>\n",
              "    <tr>\n",
              "      <th>98564</th>\n",
              "      <td>2020</td>\n",
              "      <td>1</td>\n",
              "      <td>1000001</td>\n",
              "      <td>계동길</td>\n",
              "      <td>CS100001</td>\n",
              "      <td>4.314425e+08</td>\n",
              "      <td>18548</td>\n",
              "      <td>19</td>\n",
              "      <td>0</td>\n",
              "      <td>1</td>\n",
              "      <td>336343</td>\n",
              "      <td>1800</td>\n",
              "      <td>842</td>\n",
              "      <td>26</td>\n",
              "      <td>73</td>\n",
              "      <td>97</td>\n",
              "      <td>56</td>\n",
              "      <td>1</td>\n",
              "    </tr>\n",
              "  </tbody>\n",
              "</table>\n",
              "<p>98565 rows × 18 columns</p>\n",
              "</div>"
            ],
            "text/plain": [
              "       기준_년_코드  기준_분기_코드    상권_코드  ... 운영_영업_개월_평균 폐업_영업_개월_평균  상권_변화_지표\n",
              "0         2020         3  1001496  ...         123          63         1\n",
              "1         2020         3  1001496  ...         123          63         1\n",
              "2         2020         3  1001496  ...         123          63         1\n",
              "3         2020         3  1001496  ...         123          63         1\n",
              "4         2020         3  1001496  ...         123          63         1\n",
              "...        ...       ...      ...  ...         ...         ...       ...\n",
              "98560     2020         1  1000001  ...          97          56         1\n",
              "98561     2020         1  1000001  ...          97          56         1\n",
              "98562     2020         1  1000001  ...          97          56         1\n",
              "98563     2020         1  1000001  ...          97          56         1\n",
              "98564     2020         1  1000001  ...          97          56         1\n",
              "\n",
              "[98565 rows x 18 columns]"
            ]
          },
          "metadata": {
            "tags": []
          },
          "execution_count": 18
        }
      ]
    },
    {
      "cell_type": "code",
      "metadata": {
        "id": "83fVgYkJCYc0"
      },
      "source": [
        "data.to_csv(\"2020data(mapping_ver3).csv\",encoding='utf-8-sig')"
      ],
      "execution_count": null,
      "outputs": []
    },
    {
      "cell_type": "code",
      "metadata": {
        "id": "iATJEv0h63v8"
      },
      "source": [
        "def bar_chart(feature):\r\n",
        "  sc=data[data['상권_변화_지표']==1][feature].value_counts()\r\n",
        "  di=data[data['상권_변화_지표']==0][feature].value_counts()\r\n",
        "  df=pd.DataFrame([sc,di])\r\n",
        "  df.index=['sc','di']\r\n",
        "  df.plot(kind='bar',stacked=True,figsize=(10,5))"
      ],
      "execution_count": null,
      "outputs": []
    },
    {
      "cell_type": "code",
      "metadata": {
        "colab": {
          "base_uri": "https://localhost:8080/",
          "height": 318
        },
        "id": "8Qd_asgU8T9R",
        "outputId": "dd72df27-f7c1-4f17-f436-6ab9365f5180"
      },
      "source": [
        "bar_chart('기준_분기_코드')"
      ],
      "execution_count": null,
      "outputs": [
        {
          "output_type": "display_data",
          "data": {
            "image/png": "[encoded data removed]",
            "text/plain": [
              "<Figure size 720x360 with 1 Axes>"
            ]
          },
          "metadata": {
            "tags": [],
            "needs_background": "light"
          }
        }
      ]
    },
    {
      "cell_type": "code",
      "metadata": {
        "colab": {
          "base_uri": "https://localhost:8080/",
          "height": 265
        },
        "id": "k4S_kxqjA0m4",
        "outputId": "164d311f-41e6-4172-dfc7-341539a80ac0"
      },
      "source": [
        "facet=sns.FacetGrid(data,hue=\"상권_변화_지표\",aspect=7)\r\n",
        "facet.map(sns.kdeplot,'당월_매출_금액',shade=True)\r\n",
        "facet.set(xlim=(0,data['당월_매출_금액'].max()))\r\n",
        "facet.add_legend()\r\n",
        "\r\n",
        "plt.show()"
      ],
      "execution_count": null,
      "outputs": [
        {
          "output_type": "stream",
          "text": [
            "/usr/local/lib/python3.6/dist-packages/matplotlib/backends/backend_agg.py:214: RuntimeWarning: Glyph 8722 missing from current font.\n",
            "  font.set_text(s, 0.0, flags=flags)\n",
            "/usr/local/lib/python3.6/dist-packages/matplotlib/backends/backend_agg.py:183: RuntimeWarning: Glyph 8722 missing from current font.\n",
            "  font.set_text(s, 0, flags=flags)\n"
          ],
          "name": "stderr"
        },
        {
          "output_type": "display_data",
          "data": {
            "image/png": "[encoded data removed]",
            "text/plain": [
              "<Figure size 1582.25x216 with 1 Axes>"
            ]
          },
          "metadata": {
            "tags": [],
            "needs_background": "light"
          }
        }
      ]
    },
    {
      "cell_type": "code",
      "metadata": {
        "colab": {
          "base_uri": "https://localhost:8080/",
          "height": 312
        },
        "id": "5k-uFmeRW5LM",
        "outputId": "a985d68e-0333-459b-b6b4-7ec5f5a315ab"
      },
      "source": [
        "facet=sns.FacetGrid(data,hue=\"상권_변화_지표\",aspect=7)\r\n",
        "facet.map(sns.kdeplot,'당월_매출_건수',shade=True)\r\n",
        "facet.set(xlim=(0,data['당월_매출_건수'].max()))\r\n",
        "facet.add_legend()\r\n",
        "\r\n",
        "plt.xlim(0,150000)"
      ],
      "execution_count": null,
      "outputs": [
        {
          "output_type": "stream",
          "text": [
            "/usr/local/lib/python3.6/dist-packages/matplotlib/backends/backend_agg.py:214: RuntimeWarning: Glyph 8722 missing from current font.\n",
            "  font.set_text(s, 0.0, flags=flags)\n",
            "/usr/local/lib/python3.6/dist-packages/matplotlib/backends/backend_agg.py:183: RuntimeWarning: Glyph 8722 missing from current font.\n",
            "  font.set_text(s, 0, flags=flags)\n"
          ],
          "name": "stderr"
        },
        {
          "output_type": "execute_result",
          "data": {
            "text/plain": [
              "(0.0, 150000.0)"
            ]
          },
          "metadata": {
            "tags": []
          },
          "execution_count": 23
        },
        {
          "output_type": "display_data",
          "data": {
            "image/png": "[encoded data removed]",
            "text/plain": [
              "<Figure size 1582.25x216 with 1 Axes>"
            ]
          },
          "metadata": {
            "tags": [],
            "needs_background": "light"
          }
        }
      ]
    },
    {
      "cell_type": "code",
      "metadata": {
        "colab": {
          "base_uri": "https://localhost:8080/",
          "height": 283
        },
        "id": "BE2uW_nYB-KF",
        "outputId": "9602ac5a-2cc3-495e-f54c-36db4ef07036"
      },
      "source": [
        "facet=sns.FacetGrid(data,hue=\"상권_변화_지표\",aspect=7)\r\n",
        "facet.map(sns.kdeplot,'당월_매출_금액',shade=True)\r\n",
        "facet.set(xlim=(0,data['당월_매출_금액'].max()))\r\n",
        "facet.add_legend()\r\n",
        "\r\n",
        "plt.xlim(0,0.2)"
      ],
      "execution_count": null,
      "outputs": [
        {
          "output_type": "stream",
          "text": [
            "/usr/local/lib/python3.6/dist-packages/matplotlib/backends/backend_agg.py:214: RuntimeWarning: Glyph 8722 missing from current font.\n",
            "  font.set_text(s, 0.0, flags=flags)\n",
            "/usr/local/lib/python3.6/dist-packages/matplotlib/backends/backend_agg.py:183: RuntimeWarning: Glyph 8722 missing from current font.\n",
            "  font.set_text(s, 0, flags=flags)\n"
          ],
          "name": "stderr"
        },
        {
          "output_type": "execute_result",
          "data": {
            "text/plain": [
              "(0.0, 0.2)"
            ]
          },
          "metadata": {
            "tags": []
          },
          "execution_count": 20
        },
        {
          "output_type": "display_data",
          "data": {
            "image/png": "[encoded data removed]",
            "text/plain": [
              "<Figure size 1582.25x216 with 1 Axes>"
            ]
          },
          "metadata": {
            "tags": [],
            "needs_background": "light"
          }
        }
      ]
    },
    {
      "cell_type": "code",
      "metadata": {
        "colab": {
          "base_uri": "https://localhost:8080/",
          "height": 191
        },
        "id": "09mxs3AWELAO",
        "outputId": "b737b6c1-d376-49a6-9f9d-89628d80670e"
      },
      "source": [
        "facet=sns.FacetGrid(data,hue=\"상권_변화_지표\",aspect=7)\r\n",
        "facet.map(sns.kdeplot,'점포_수',shade=True)\r\n",
        "facet.set(xlim=(0,data['점포_수'].max()))\r\n",
        "facet.add_legend()\r\n",
        "\r\n",
        "plt.show()"
      ],
      "execution_count": null,
      "outputs": [
        {
          "output_type": "display_data",
          "data": {
            "image/png": "[encoded data removed]",
            "text/plain": [
              "<Figure size 1582.25x216 with 1 Axes>"
            ]
          },
          "metadata": {
            "tags": [],
            "needs_background": "light"
          }
        }
      ]
    },
    {
      "cell_type": "code",
      "metadata": {
        "colab": {
          "base_uri": "https://localhost:8080/",
          "height": 209
        },
        "id": "WNNGZN6zEbbA",
        "outputId": "8cae91f4-95c8-46a9-80d4-c599df2d74dc"
      },
      "source": [
        "facet=sns.FacetGrid(data,hue=\"상권_변화_지표\",aspect=7)\r\n",
        "facet.map(sns.kdeplot,'점포_수',shade=True)\r\n",
        "facet.set(xlim=(0,data['점포_수'].max()))\r\n",
        "facet.add_legend()\r\n",
        "\r\n",
        "plt.xlim(0,100)"
      ],
      "execution_count": null,
      "outputs": [
        {
          "output_type": "execute_result",
          "data": {
            "text/plain": [
              "(0.0, 100.0)"
            ]
          },
          "metadata": {
            "tags": []
          },
          "execution_count": 22
        },
        {
          "output_type": "display_data",
          "data": {
            "image/png": "[encoded data removed]",
            "text/plain": [
              "<Figure size 1582.25x216 with 1 Axes>"
            ]
          },
          "metadata": {
            "tags": [],
            "needs_background": "light"
          }
        }
      ]
    },
    {
      "cell_type": "code",
      "metadata": {
        "colab": {
          "base_uri": "https://localhost:8080/",
          "height": 242
        },
        "id": "T7gy2yKRXXSI",
        "outputId": "5386a82a-d789-416d-c035-3f4dde471e1b"
      },
      "source": [
        "facet=sns.FacetGrid(data,hue=\"상권_변화_지표\",aspect=7)\r\n",
        "facet.map(sns.kdeplot,'개업_점포_수',shade=True)\r\n",
        "facet.set(xlim=(0,data['개업_점포_수'].max()))\r\n",
        "facet.add_legend()\r\n",
        "\r\n",
        "plt.xlim(0,10)"
      ],
      "execution_count": null,
      "outputs": [
        {
          "output_type": "execute_result",
          "data": {
            "text/plain": [
              "(0.0, 10.0)"
            ]
          },
          "metadata": {
            "tags": []
          },
          "execution_count": 24
        },
        {
          "output_type": "display_data",
          "data": {
            "image/png": "[encoded data removed]",
            "text/plain": [
              "<Figure size 1582.25x216 with 1 Axes>"
            ]
          },
          "metadata": {
            "tags": [],
            "needs_background": "light"
          }
        }
      ]
    },
    {
      "cell_type": "code",
      "metadata": {
        "colab": {
          "base_uri": "https://localhost:8080/",
          "height": 209
        },
        "id": "NFI21XW7EixN",
        "outputId": "a762b63e-3dfe-4346-99ce-47ff7b855a5e"
      },
      "source": [
        "facet=sns.FacetGrid(data,hue=\"상권_변화_지표\",aspect=7)\r\n",
        "facet.map(sns.kdeplot,'폐업_점포_수',shade=True)\r\n",
        "facet.set(xlim=(0,data['폐업_점포_수'].max()))\r\n",
        "facet.add_legend()\r\n",
        "\r\n",
        "plt.xlim(0,10)"
      ],
      "execution_count": null,
      "outputs": [
        {
          "output_type": "execute_result",
          "data": {
            "text/plain": [
              "(0.0, 10.0)"
            ]
          },
          "metadata": {
            "tags": []
          },
          "execution_count": 23
        },
        {
          "output_type": "display_data",
          "data": {
            "image/png": "[encoded data removed]",
            "text/plain": [
              "<Figure size 1582.25x216 with 1 Axes>"
            ]
          },
          "metadata": {
            "tags": [],
            "needs_background": "light"
          }
        }
      ]
    },
    {
      "cell_type": "code",
      "metadata": {
        "colab": {
          "base_uri": "https://localhost:8080/",
          "height": 264
        },
        "id": "drBR2LKOEzhy",
        "outputId": "e564a339-b0e5-411a-a251-edd816960835"
      },
      "source": [
        "facet=sns.FacetGrid(data,hue=\"상권_변화_지표\",aspect=7)\r\n",
        "facet.map(sns.kdeplot,'총_유동인구_수',shade=True)\r\n",
        "facet.set(xlim=(0,data['총_유동인구_수'].max()))\r\n",
        "facet.add_legend()\r\n",
        "\r\n",
        "plt.show()"
      ],
      "execution_count": null,
      "outputs": [
        {
          "output_type": "stream",
          "text": [
            "/usr/local/lib/python3.6/dist-packages/matplotlib/backends/backend_agg.py:214: RuntimeWarning: Glyph 8722 missing from current font.\n",
            "  font.set_text(s, 0.0, flags=flags)\n",
            "/usr/local/lib/python3.6/dist-packages/matplotlib/backends/backend_agg.py:183: RuntimeWarning: Glyph 8722 missing from current font.\n",
            "  font.set_text(s, 0, flags=flags)\n"
          ],
          "name": "stderr"
        },
        {
          "output_type": "display_data",
          "data": {
            "image/png": "[encoded data removed]",
            "text/plain": [
              "<Figure size 1582.25x216 with 1 Axes>"
            ]
          },
          "metadata": {
            "tags": [],
            "needs_background": "light"
          }
        }
      ]
    },
    {
      "cell_type": "code",
      "metadata": {
        "colab": {
          "base_uri": "https://localhost:8080/",
          "height": 191
        },
        "id": "QdjoWGPLFBxm",
        "outputId": "f4c93239-1946-47ae-d0ef-470c4f9efd3d"
      },
      "source": [
        "facet=sns.FacetGrid(data,hue=\"상권_변화_지표\",aspect=7)\r\n",
        "facet.map(sns.kdeplot,'총 상주인구 수',shade=True)\r\n",
        "facet.set(xlim=(0,data['총 상주인구 수'].max()))\r\n",
        "facet.add_legend()\r\n",
        "\r\n",
        "plt.show()"
      ],
      "execution_count": null,
      "outputs": [
        {
          "output_type": "display_data",
          "data": {
            "image/png": "[encoded data removed]",
            "text/plain": [
              "<Figure size 1582.25x216 with 1 Axes>"
            ]
          },
          "metadata": {
            "tags": [],
            "needs_background": "light"
          }
        }
      ]
    },
    {
      "cell_type": "code",
      "metadata": {
        "colab": {
          "base_uri": "https://localhost:8080/",
          "height": 209
        },
        "id": "hmAy5HUPFI0u",
        "outputId": "a21ea77a-282f-44a5-e3c2-a59f408afd13"
      },
      "source": [
        "facet=sns.FacetGrid(data,hue=\"상권_변화_지표\",aspect=7)\r\n",
        "facet.map(sns.kdeplot,'총_직장_인구_수',shade=True)\r\n",
        "facet.set(xlim=(0,data['총_직장_인구_수'].max()))\r\n",
        "facet.add_legend()\r\n",
        "\r\n",
        "plt.xlim(0,10000)"
      ],
      "execution_count": null,
      "outputs": [
        {
          "output_type": "execute_result",
          "data": {
            "text/plain": [
              "(0.0, 10000.0)"
            ]
          },
          "metadata": {
            "tags": []
          },
          "execution_count": 26
        },
        {
          "output_type": "display_data",
          "data": {
            "image/png": "[encoded data removed]",
            "text/plain": [
              "<Figure size 1582.25x216 with 1 Axes>"
            ]
          },
          "metadata": {
            "tags": [],
            "needs_background": "light"
          }
        }
      ]
    },
    {
      "cell_type": "code",
      "metadata": {
        "colab": {
          "base_uri": "https://localhost:8080/",
          "height": 191
        },
        "id": "XE-wYDYOFaUW",
        "outputId": "1d6bb76e-1892-4c6d-9621-1b6010153929"
      },
      "source": [
        "facet=sns.FacetGrid(data,hue=\"상권_변화_지표\",aspect=7)\r\n",
        "facet.map(sns.kdeplot,'아파트_단지_수',shade=True)\r\n",
        "facet.set(xlim=(0,data['아파트_단지_수'].max()))\r\n",
        "facet.add_legend()\r\n",
        "\r\n",
        "plt.show()"
      ],
      "execution_count": null,
      "outputs": [
        {
          "output_type": "display_data",
          "data": {
            "image/png": "[encoded data removed]",
            "text/plain": [
              "<Figure size 1582.25x216 with 1 Axes>"
            ]
          },
          "metadata": {
            "tags": [],
            "needs_background": "light"
          }
        }
      ]
    },
    {
      "cell_type": "code",
      "metadata": {
        "colab": {
          "base_uri": "https://localhost:8080/",
          "height": 191
        },
        "id": "-CjxEHHdFjBb",
        "outputId": "8975ada1-7932-4fc2-fa93-469d936e1ad5"
      },
      "source": [
        "facet=sns.FacetGrid(data,hue=\"상권_변화_지표\",aspect=7)\r\n",
        "facet.map(sns.kdeplot,'집객시설_수',shade=True)\r\n",
        "facet.set(xlim=(0,data['집객시설_수'].max()))\r\n",
        "facet.add_legend()\r\n",
        "\r\n",
        "plt.show()"
      ],
      "execution_count": null,
      "outputs": [
        {
          "output_type": "display_data",
          "data": {
            "image/png": "[encoded data removed]",
            "text/plain": [
              "<Figure size 1582.25x216 with 1 Axes>"
            ]
          },
          "metadata": {
            "tags": [],
            "needs_background": "light"
          }
        }
      ]
    },
    {
      "cell_type": "code",
      "metadata": {
        "colab": {
          "base_uri": "https://localhost:8080/",
          "height": 242
        },
        "id": "DQ8kcNheFo8z",
        "outputId": "916daa97-0214-4097-ded4-fe207e59f497"
      },
      "source": [
        "facet=sns.FacetGrid(data,hue=\"상권_변화_지표\",aspect=7)\r\n",
        "facet.map(sns.kdeplot,'집객시설_수',shade=True)\r\n",
        "facet.set(xlim=(0,data['집객시설_수'].max()))\r\n",
        "facet.add_legend()\r\n",
        "\r\n",
        "plt.xlim(0,300)"
      ],
      "execution_count": null,
      "outputs": [
        {
          "output_type": "execute_result",
          "data": {
            "text/plain": [
              "(0.0, 300.0)"
            ]
          },
          "metadata": {
            "tags": []
          },
          "execution_count": 25
        },
        {
          "output_type": "display_data",
          "data": {
            "image/png": "[encoded data removed]",
            "text/plain": [
              "<Figure size 1582.25x216 with 1 Axes>"
            ]
          },
          "metadata": {
            "tags": [],
            "needs_background": "light"
          }
        }
      ]
    },
    {
      "cell_type": "code",
      "metadata": {
        "colab": {
          "base_uri": "https://localhost:8080/",
          "height": 191
        },
        "id": "RJmILEhNFvjo",
        "outputId": "86a606b5-3428-43a0-b0b7-e1eb63d17d53"
      },
      "source": [
        "facet=sns.FacetGrid(data,hue=\"상권_변화_지표\",aspect=7)\r\n",
        "facet.map(sns.kdeplot,'운영_영업_개월_평균',shade=True)\r\n",
        "facet.set(xlim=(0,data['운영_영업_개월_평균'].max()))\r\n",
        "facet.add_legend()\r\n",
        "\r\n",
        "plt.show()"
      ],
      "execution_count": null,
      "outputs": [
        {
          "output_type": "display_data",
          "data": {
            "image/png": "[encoded data removed]",
            "text/plain": [
              "<Figure size 1582.25x216 with 1 Axes>"
            ]
          },
          "metadata": {
            "tags": [],
            "needs_background": "light"
          }
        }
      ]
    },
    {
      "cell_type": "code",
      "metadata": {
        "colab": {
          "base_uri": "https://localhost:8080/",
          "height": 191
        },
        "id": "4nvaE4TXF8wY",
        "outputId": "496958c1-42ee-48e6-9eeb-6b2e9668ee76"
      },
      "source": [
        "facet=sns.FacetGrid(data,hue=\"상권_변화_지표\",aspect=7)\r\n",
        "facet.map(sns.kdeplot,'폐업_영업_개월_평균',shade=True)\r\n",
        "facet.set(xlim=(0,data['폐업_영업_개월_평균'].max()))\r\n",
        "facet.add_legend()\r\n",
        "\r\n",
        "plt.show()"
      ],
      "execution_count": null,
      "outputs": [
        {
          "output_type": "display_data",
          "data": {
            "image/png": "[encoded data removed]",
            "text/plain": [
              "<Figure size 1582.25x216 with 1 Axes>"
            ]
          },
          "metadata": {
            "tags": [],
            "needs_background": "light"
          }
        }
      ]
    }
  ]
}